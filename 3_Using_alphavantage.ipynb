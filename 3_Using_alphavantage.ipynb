{
 "cells": [
  {
   "cell_type": "markdown",
   "metadata": {},
   "source": [
    "# Using Alphavantage \n",
    "Alpha Vantage provides realtime and historical financial market data through a set of powerful \n",
    "and developer-friendly data APIs\n",
    "\n"
   ]
  },
  {
   "cell_type": "code",
   "execution_count": null,
   "metadata": {},
   "outputs": [
    {
     "name": "stdout",
     "output_type": "stream",
     "text": [
      "Collecting alpha_vantage\n",
      "  Downloading alpha_vantage-3.0.0-py3-none-any.whl.metadata (12 kB)\n",
      "Collecting aiohttp (from alpha_vantage)\n",
      "  Downloading aiohttp-3.11.14-cp313-cp313-win_amd64.whl.metadata (8.0 kB)\n",
      "Requirement already satisfied: requests in d:\\_elib 2025\\_trading\\mypython projects\\startpythonictrading\\myenv_name\\lib\\site-packages (from alpha_vantage) (2.32.3)\n",
      "Collecting aiohappyeyeballs>=2.3.0 (from aiohttp->alpha_vantage)\n",
      "  Downloading aiohappyeyeballs-2.6.1-py3-none-any.whl.metadata (5.9 kB)\n",
      "Collecting aiosignal>=1.1.2 (from aiohttp->alpha_vantage)\n",
      "  Downloading aiosignal-1.3.2-py2.py3-none-any.whl.metadata (3.8 kB)\n",
      "Requirement already satisfied: attrs>=17.3.0 in d:\\_elib 2025\\_trading\\mypython projects\\startpythonictrading\\myenv_name\\lib\\site-packages (from aiohttp->alpha_vantage) (25.3.0)\n",
      "Collecting frozenlist>=1.1.1 (from aiohttp->alpha_vantage)\n",
      "  Downloading frozenlist-1.5.0-cp313-cp313-win_amd64.whl.metadata (14 kB)\n",
      "Collecting multidict<7.0,>=4.5 (from aiohttp->alpha_vantage)\n",
      "  Downloading multidict-6.2.0-cp313-cp313-win_amd64.whl.metadata (5.1 kB)\n",
      "Collecting propcache>=0.2.0 (from aiohttp->alpha_vantage)\n",
      "  Downloading propcache-0.3.1-cp313-cp313-win_amd64.whl.metadata (11 kB)\n",
      "Collecting yarl<2.0,>=1.17.0 (from aiohttp->alpha_vantage)\n",
      "  Downloading yarl-1.18.3-cp313-cp313-win_amd64.whl.metadata (71 kB)\n",
      "Requirement already satisfied: charset-normalizer<4,>=2 in d:\\_elib 2025\\_trading\\mypython projects\\startpythonictrading\\myenv_name\\lib\\site-packages (from requests->alpha_vantage) (3.4.1)\n",
      "Requirement already satisfied: idna<4,>=2.5 in d:\\_elib 2025\\_trading\\mypython projects\\startpythonictrading\\myenv_name\\lib\\site-packages (from requests->alpha_vantage) (3.10)\n",
      "Requirement already satisfied: urllib3<3,>=1.21.1 in d:\\_elib 2025\\_trading\\mypython projects\\startpythonictrading\\myenv_name\\lib\\site-packages (from requests->alpha_vantage) (2.3.0)\n",
      "Requirement already satisfied: certifi>=2017.4.17 in d:\\_elib 2025\\_trading\\mypython projects\\startpythonictrading\\myenv_name\\lib\\site-packages (from requests->alpha_vantage) (2025.1.31)\n",
      "Downloading alpha_vantage-3.0.0-py3-none-any.whl (35 kB)\n",
      "Downloading aiohttp-3.11.14-cp313-cp313-win_amd64.whl (436 kB)\n",
      "Downloading aiohappyeyeballs-2.6.1-py3-none-any.whl (15 kB)\n",
      "Downloading aiosignal-1.3.2-py2.py3-none-any.whl (7.6 kB)\n",
      "Downloading frozenlist-1.5.0-cp313-cp313-win_amd64.whl (51 kB)\n",
      "Downloading multidict-6.2.0-cp313-cp313-win_amd64.whl (28 kB)\n",
      "Downloading propcache-0.3.1-cp313-cp313-win_amd64.whl (44 kB)\n",
      "Downloading yarl-1.18.3-cp313-cp313-win_amd64.whl (315 kB)\n",
      "Installing collected packages: propcache, multidict, frozenlist, aiohappyeyeballs, yarl, aiosignal, aiohttp, alpha_vantage\n",
      "Successfully installed aiohappyeyeballs-2.6.1 aiohttp-3.11.14 aiosignal-1.3.2 alpha_vantage-3.0.0 frozenlist-1.5.0 multidict-6.2.0 propcache-0.3.1 yarl-1.18.3\n",
      "Note: you may need to restart the kernel to use updated packages.\n"
     ]
    },
    {
     "name": "stderr",
     "output_type": "stream",
     "text": [
      "\n",
      "[notice] A new release of pip is available: 24.3.1 -> 25.0.1\n",
      "[notice] To update, run: python.exe -m pip install --upgrade pip\n"
     ]
    }
   ],
   "source": [
    "#  %pip install alpha_vantage   # comment after installing alpha_van"
   ]
  },
  {
   "cell_type": "markdown",
   "metadata": {},
   "source": [
    "### 1. Importing libraries"
   ]
  },
  {
   "cell_type": "code",
   "execution_count": 1,
   "metadata": {},
   "outputs": [],
   "source": [
    "import pandas as pd\n",
    "import matplotlib.pyplot as plt\n",
    "from alpha_vantage.timeseries import TimeSeries\n",
    "from alpha_vantage.foreignexchange import ForeignExchange"
   ]
  },
  {
   "cell_type": "code",
   "execution_count": 2,
   "metadata": {},
   "outputs": [],
   "source": [
    "#  Claim your free API key from https://alphavantage.co\n",
    "# \n",
    "mykey = 'ZT5AY7RGJ5GZYJP3'"
   ]
  },
  {
   "cell_type": "markdown",
   "metadata": {},
   "source": [
    "### 2. Get Real-Time Currency Exchange Rates\n",
    "\n"
   ]
  },
  {
   "cell_type": "code",
   "execution_count": 3,
   "metadata": {},
   "outputs": [
    {
     "name": "stdout",
     "output_type": "stream",
     "text": [
      "({'1. From_Currency Code': 'EUR', '2. From_Currency Name': 'Euro', '3. To_Currency Code': 'USD', '4. To_Currency Name': 'United States Dollar', '5. Exchange Rate': '1.08150000', '6. Last Refreshed': '2025-03-31 17:18:31', '7. Time Zone': 'UTC', '8. Bid Price': '1.08145000', '9. Ask Price': '1.08150000'}, None)\n"
     ]
    }
   ],
   "source": [
    "fx = ForeignExchange(mykey)\n",
    "# Get EUR/USD exchange rate\n",
    "data1= fx.get_currency_exchange_rate(from_currency=\"EUR\", to_currency=\"USD\")\n",
    "print(data1)"
   ]
  },
  {
   "cell_type": "code",
   "execution_count": 4,
   "metadata": {},
   "outputs": [
    {
     "name": "stdout",
     "output_type": "stream",
     "text": [
      "1. From_Currency Code: EUR\n",
      "2. From_Currency Name: Euro\n",
      "3. To_Currency Code: USD\n",
      "4. To_Currency Name: United States Dollar\n",
      "5. Exchange Rate: 1.08150000\n",
      "6. Last Refreshed: 2025-03-31 17:18:31\n",
      "7. Time Zone: UTC\n",
      "8. Bid Price: 1.08145000\n",
      "9. Ask Price: 1.08150000\n"
     ]
    }
   ],
   "source": [
    "for key, value in data1[0].items():\n",
    "    #label = key.split('. ', 1)[1]\n",
    "    print(f\"{key}: {value.lstrip()}\")"
   ]
  },
  {
   "cell_type": "code",
   "execution_count": 5,
   "metadata": {},
   "outputs": [
    {
     "name": "stdout",
     "output_type": "stream",
     "text": [
      "({'1. From_Currency Code': 'BTC', '2. From_Currency Name': 'Bitcoin', '3. To_Currency Code': 'USD', '4. To_Currency Name': 'United States Dollar', '5. Exchange Rate': '83501.19000000', '6. Last Refreshed': '2025-03-31 17:19:03', '7. Time Zone': 'UTC', '8. Bid Price': '83500.63800000', '9. Ask Price': '83502.15400000'}, None)\n"
     ]
    }
   ],
   "source": [
    "data1= fx.get_currency_exchange_rate(from_currency=\"BTC\", to_currency=\"USD\")\n",
    "print(data1)"
   ]
  },
  {
   "cell_type": "code",
   "execution_count": 6,
   "metadata": {},
   "outputs": [
    {
     "name": "stdout",
     "output_type": "stream",
     "text": [
      "1. From_Currency Code: BTC\n",
      "2. From_Currency Name: Bitcoin\n",
      "3. To_Currency Code: USD\n",
      "4. To_Currency Name: United States Dollar\n",
      "5. Exchange Rate: 83501.19000000\n",
      "6. Last Refreshed: 2025-03-31 17:19:03\n",
      "7. Time Zone: UTC\n",
      "8. Bid Price: 83500.63800000\n",
      "9. Ask Price: 83502.15400000\n"
     ]
    }
   ],
   "source": [
    "for key, value in data1[0].items():\n",
    "    print(f\"{key}: {value.lstrip()}\")"
   ]
  },
  {
   "cell_type": "markdown",
   "metadata": {},
   "source": [
    "### 3. Get Intraday Stock Prices (Real-Time)"
   ]
  },
  {
   "cell_type": "code",
   "execution_count": 7,
   "metadata": {},
   "outputs": [],
   "source": [
    "ts = TimeSeries(mykey, output_format='pandas')\n",
    "\n",
    "data, meta = ts.get_intraday('TSLA', interval='60min', outputsize='full') # Get real-time intraday stock data (60 minutes intervals"
   ]
  },
  {
   "cell_type": "code",
   "execution_count": 8,
   "metadata": {},
   "outputs": [
    {
     "data": {
      "text/plain": [
       "alpha_vantage.timeseries.TimeSeries"
      ]
     },
     "execution_count": 8,
     "metadata": {},
     "output_type": "execute_result"
    }
   ],
   "source": [
    "type(ts)"
   ]
  },
  {
   "cell_type": "code",
   "execution_count": 9,
   "metadata": {},
   "outputs": [
    {
     "data": {
      "text/plain": [
       "{'1. Information': 'Intraday (60min) open, high, low, close prices and volume',\n",
       " '2. Symbol': 'TSLA',\n",
       " '3. Last Refreshed': '2025-03-28 19:00:00',\n",
       " '4. Interval': '60min',\n",
       " '5. Output Size': 'Full size',\n",
       " '6. Time Zone': 'US/Eastern'}"
      ]
     },
     "execution_count": 9,
     "metadata": {},
     "output_type": "execute_result"
    }
   ],
   "source": [
    "meta"
   ]
  },
  {
   "cell_type": "code",
   "execution_count": 11,
   "metadata": {},
   "outputs": [
    {
     "name": "stdout",
     "output_type": "stream",
     "text": [
      "<class 'pandas.core.frame.DataFrame'>\n",
      "DatetimeIndex: 349 entries, 2025-03-28 19:00:00 to 2025-02-27 04:00:00\n",
      "Data columns (total 5 columns):\n",
      " #   Column     Non-Null Count  Dtype  \n",
      "---  ------     --------------  -----  \n",
      " 0   1. open    349 non-null    float64\n",
      " 1   2. high    349 non-null    float64\n",
      " 2   3. low     349 non-null    float64\n",
      " 3   4. close   349 non-null    float64\n",
      " 4   5. volume  349 non-null    float64\n",
      "dtypes: float64(5)\n",
      "memory usage: 16.4 KB\n"
     ]
    }
   ],
   "source": [
    "data.info()"
   ]
  },
  {
   "cell_type": "code",
   "execution_count": 12,
   "metadata": {},
   "outputs": [
    {
     "data": {
      "text/html": [
       "<div>\n",
       "<style scoped>\n",
       "    .dataframe tbody tr th:only-of-type {\n",
       "        vertical-align: middle;\n",
       "    }\n",
       "\n",
       "    .dataframe tbody tr th {\n",
       "        vertical-align: top;\n",
       "    }\n",
       "\n",
       "    .dataframe thead th {\n",
       "        text-align: right;\n",
       "    }\n",
       "</style>\n",
       "<table border=\"1\" class=\"dataframe\">\n",
       "  <thead>\n",
       "    <tr style=\"text-align: right;\">\n",
       "      <th></th>\n",
       "      <th>1. open</th>\n",
       "      <th>2. high</th>\n",
       "      <th>3. low</th>\n",
       "      <th>4. close</th>\n",
       "      <th>5. volume</th>\n",
       "    </tr>\n",
       "    <tr>\n",
       "      <th>date</th>\n",
       "      <th></th>\n",
       "      <th></th>\n",
       "      <th></th>\n",
       "      <th></th>\n",
       "      <th></th>\n",
       "    </tr>\n",
       "  </thead>\n",
       "  <tbody>\n",
       "    <tr>\n",
       "      <th>2025-03-28 19:00:00</th>\n",
       "      <td>261.174</td>\n",
       "      <td>261.1740</td>\n",
       "      <td>260.0000</td>\n",
       "      <td>260.12</td>\n",
       "      <td>392417.0</td>\n",
       "    </tr>\n",
       "    <tr>\n",
       "      <th>2025-03-28 18:00:00</th>\n",
       "      <td>261.910</td>\n",
       "      <td>263.5500</td>\n",
       "      <td>260.8100</td>\n",
       "      <td>261.00</td>\n",
       "      <td>245878.0</td>\n",
       "    </tr>\n",
       "    <tr>\n",
       "      <th>2025-03-28 17:00:00</th>\n",
       "      <td>262.070</td>\n",
       "      <td>269.4952</td>\n",
       "      <td>245.8456</td>\n",
       "      <td>261.86</td>\n",
       "      <td>371627.0</td>\n",
       "    </tr>\n",
       "    <tr>\n",
       "      <th>2025-03-28 16:00:00</th>\n",
       "      <td>263.480</td>\n",
       "      <td>274.4579</td>\n",
       "      <td>244.1347</td>\n",
       "      <td>262.01</td>\n",
       "      <td>11396886.0</td>\n",
       "    </tr>\n",
       "    <tr>\n",
       "      <th>2025-03-28 15:00:00</th>\n",
       "      <td>263.955</td>\n",
       "      <td>264.8346</td>\n",
       "      <td>260.5700</td>\n",
       "      <td>263.54</td>\n",
       "      <td>17088707.0</td>\n",
       "    </tr>\n",
       "  </tbody>\n",
       "</table>\n",
       "</div>"
      ],
      "text/plain": [
       "                     1. open   2. high    3. low  4. close   5. volume\n",
       "date                                                                  \n",
       "2025-03-28 19:00:00  261.174  261.1740  260.0000    260.12    392417.0\n",
       "2025-03-28 18:00:00  261.910  263.5500  260.8100    261.00    245878.0\n",
       "2025-03-28 17:00:00  262.070  269.4952  245.8456    261.86    371627.0\n",
       "2025-03-28 16:00:00  263.480  274.4579  244.1347    262.01  11396886.0\n",
       "2025-03-28 15:00:00  263.955  264.8346  260.5700    263.54  17088707.0"
      ]
     },
     "execution_count": 12,
     "metadata": {},
     "output_type": "execute_result"
    }
   ],
   "source": [
    "data.head()"
   ]
  },
  {
   "cell_type": "code",
   "execution_count": 13,
   "metadata": {},
   "outputs": [
    {
     "data": {
      "text/html": [
       "<div>\n",
       "<style scoped>\n",
       "    .dataframe tbody tr th:only-of-type {\n",
       "        vertical-align: middle;\n",
       "    }\n",
       "\n",
       "    .dataframe tbody tr th {\n",
       "        vertical-align: top;\n",
       "    }\n",
       "\n",
       "    .dataframe thead th {\n",
       "        text-align: right;\n",
       "    }\n",
       "</style>\n",
       "<table border=\"1\" class=\"dataframe\">\n",
       "  <thead>\n",
       "    <tr style=\"text-align: right;\">\n",
       "      <th></th>\n",
       "      <th>1. open</th>\n",
       "      <th>2. high</th>\n",
       "      <th>3. low</th>\n",
       "      <th>4. close</th>\n",
       "      <th>5. volume</th>\n",
       "    </tr>\n",
       "    <tr>\n",
       "      <th>date</th>\n",
       "      <th></th>\n",
       "      <th></th>\n",
       "      <th></th>\n",
       "      <th></th>\n",
       "      <th></th>\n",
       "    </tr>\n",
       "  </thead>\n",
       "  <tbody>\n",
       "    <tr>\n",
       "      <th>2025-02-27 08:00:00</th>\n",
       "      <td>297.26</td>\n",
       "      <td>308.175</td>\n",
       "      <td>286.40</td>\n",
       "      <td>294.54</td>\n",
       "      <td>1802557.0</td>\n",
       "    </tr>\n",
       "    <tr>\n",
       "      <th>2025-02-27 07:00:00</th>\n",
       "      <td>295.92</td>\n",
       "      <td>297.850</td>\n",
       "      <td>295.30</td>\n",
       "      <td>297.35</td>\n",
       "      <td>746927.0</td>\n",
       "    </tr>\n",
       "    <tr>\n",
       "      <th>2025-02-27 06:00:00</th>\n",
       "      <td>295.80</td>\n",
       "      <td>296.570</td>\n",
       "      <td>295.25</td>\n",
       "      <td>295.98</td>\n",
       "      <td>228383.0</td>\n",
       "    </tr>\n",
       "    <tr>\n",
       "      <th>2025-02-27 05:00:00</th>\n",
       "      <td>295.18</td>\n",
       "      <td>296.290</td>\n",
       "      <td>293.99</td>\n",
       "      <td>295.80</td>\n",
       "      <td>263437.0</td>\n",
       "    </tr>\n",
       "    <tr>\n",
       "      <th>2025-02-27 04:00:00</th>\n",
       "      <td>290.78</td>\n",
       "      <td>295.920</td>\n",
       "      <td>289.22</td>\n",
       "      <td>295.18</td>\n",
       "      <td>576198.0</td>\n",
       "    </tr>\n",
       "  </tbody>\n",
       "</table>\n",
       "</div>"
      ],
      "text/plain": [
       "                     1. open  2. high  3. low  4. close  5. volume\n",
       "date                                                              \n",
       "2025-02-27 08:00:00   297.26  308.175  286.40    294.54  1802557.0\n",
       "2025-02-27 07:00:00   295.92  297.850  295.30    297.35   746927.0\n",
       "2025-02-27 06:00:00   295.80  296.570  295.25    295.98   228383.0\n",
       "2025-02-27 05:00:00   295.18  296.290  293.99    295.80   263437.0\n",
       "2025-02-27 04:00:00   290.78  295.920  289.22    295.18   576198.0"
      ]
     },
     "execution_count": 13,
     "metadata": {},
     "output_type": "execute_result"
    }
   ],
   "source": [
    "data.tail()"
   ]
  },
  {
   "cell_type": "code",
   "execution_count": 14,
   "metadata": {},
   "outputs": [],
   "source": [
    "columns = ['open', 'high', 'low', 'close', 'volume']\n",
    "data.columns = columns"
   ]
  },
  {
   "cell_type": "code",
   "execution_count": 15,
   "metadata": {},
   "outputs": [
    {
     "data": {
      "text/html": [
       "<div>\n",
       "<style scoped>\n",
       "    .dataframe tbody tr th:only-of-type {\n",
       "        vertical-align: middle;\n",
       "    }\n",
       "\n",
       "    .dataframe tbody tr th {\n",
       "        vertical-align: top;\n",
       "    }\n",
       "\n",
       "    .dataframe thead th {\n",
       "        text-align: right;\n",
       "    }\n",
       "</style>\n",
       "<table border=\"1\" class=\"dataframe\">\n",
       "  <thead>\n",
       "    <tr style=\"text-align: right;\">\n",
       "      <th></th>\n",
       "      <th>open</th>\n",
       "      <th>high</th>\n",
       "      <th>low</th>\n",
       "      <th>close</th>\n",
       "      <th>volume</th>\n",
       "    </tr>\n",
       "    <tr>\n",
       "      <th>date</th>\n",
       "      <th></th>\n",
       "      <th></th>\n",
       "      <th></th>\n",
       "      <th></th>\n",
       "      <th></th>\n",
       "    </tr>\n",
       "  </thead>\n",
       "  <tbody>\n",
       "    <tr>\n",
       "      <th>2025-03-28 19:00:00</th>\n",
       "      <td>261.174</td>\n",
       "      <td>261.1740</td>\n",
       "      <td>260.0000</td>\n",
       "      <td>260.12</td>\n",
       "      <td>392417.0</td>\n",
       "    </tr>\n",
       "    <tr>\n",
       "      <th>2025-03-28 18:00:00</th>\n",
       "      <td>261.910</td>\n",
       "      <td>263.5500</td>\n",
       "      <td>260.8100</td>\n",
       "      <td>261.00</td>\n",
       "      <td>245878.0</td>\n",
       "    </tr>\n",
       "    <tr>\n",
       "      <th>2025-03-28 17:00:00</th>\n",
       "      <td>262.070</td>\n",
       "      <td>269.4952</td>\n",
       "      <td>245.8456</td>\n",
       "      <td>261.86</td>\n",
       "      <td>371627.0</td>\n",
       "    </tr>\n",
       "    <tr>\n",
       "      <th>2025-03-28 16:00:00</th>\n",
       "      <td>263.480</td>\n",
       "      <td>274.4579</td>\n",
       "      <td>244.1347</td>\n",
       "      <td>262.01</td>\n",
       "      <td>11396886.0</td>\n",
       "    </tr>\n",
       "    <tr>\n",
       "      <th>2025-03-28 15:00:00</th>\n",
       "      <td>263.955</td>\n",
       "      <td>264.8346</td>\n",
       "      <td>260.5700</td>\n",
       "      <td>263.54</td>\n",
       "      <td>17088707.0</td>\n",
       "    </tr>\n",
       "    <tr>\n",
       "      <th>...</th>\n",
       "      <td>...</td>\n",
       "      <td>...</td>\n",
       "      <td>...</td>\n",
       "      <td>...</td>\n",
       "      <td>...</td>\n",
       "    </tr>\n",
       "    <tr>\n",
       "      <th>2025-02-27 08:00:00</th>\n",
       "      <td>297.260</td>\n",
       "      <td>308.1750</td>\n",
       "      <td>286.4000</td>\n",
       "      <td>294.54</td>\n",
       "      <td>1802557.0</td>\n",
       "    </tr>\n",
       "    <tr>\n",
       "      <th>2025-02-27 07:00:00</th>\n",
       "      <td>295.920</td>\n",
       "      <td>297.8500</td>\n",
       "      <td>295.3000</td>\n",
       "      <td>297.35</td>\n",
       "      <td>746927.0</td>\n",
       "    </tr>\n",
       "    <tr>\n",
       "      <th>2025-02-27 06:00:00</th>\n",
       "      <td>295.800</td>\n",
       "      <td>296.5700</td>\n",
       "      <td>295.2500</td>\n",
       "      <td>295.98</td>\n",
       "      <td>228383.0</td>\n",
       "    </tr>\n",
       "    <tr>\n",
       "      <th>2025-02-27 05:00:00</th>\n",
       "      <td>295.180</td>\n",
       "      <td>296.2900</td>\n",
       "      <td>293.9900</td>\n",
       "      <td>295.80</td>\n",
       "      <td>263437.0</td>\n",
       "    </tr>\n",
       "    <tr>\n",
       "      <th>2025-02-27 04:00:00</th>\n",
       "      <td>290.780</td>\n",
       "      <td>295.9200</td>\n",
       "      <td>289.2200</td>\n",
       "      <td>295.18</td>\n",
       "      <td>576198.0</td>\n",
       "    </tr>\n",
       "  </tbody>\n",
       "</table>\n",
       "<p>349 rows × 5 columns</p>\n",
       "</div>"
      ],
      "text/plain": [
       "                        open      high       low   close      volume\n",
       "date                                                                \n",
       "2025-03-28 19:00:00  261.174  261.1740  260.0000  260.12    392417.0\n",
       "2025-03-28 18:00:00  261.910  263.5500  260.8100  261.00    245878.0\n",
       "2025-03-28 17:00:00  262.070  269.4952  245.8456  261.86    371627.0\n",
       "2025-03-28 16:00:00  263.480  274.4579  244.1347  262.01  11396886.0\n",
       "2025-03-28 15:00:00  263.955  264.8346  260.5700  263.54  17088707.0\n",
       "...                      ...       ...       ...     ...         ...\n",
       "2025-02-27 08:00:00  297.260  308.1750  286.4000  294.54   1802557.0\n",
       "2025-02-27 07:00:00  295.920  297.8500  295.3000  297.35    746927.0\n",
       "2025-02-27 06:00:00  295.800  296.5700  295.2500  295.98    228383.0\n",
       "2025-02-27 05:00:00  295.180  296.2900  293.9900  295.80    263437.0\n",
       "2025-02-27 04:00:00  290.780  295.9200  289.2200  295.18    576198.0\n",
       "\n",
       "[349 rows x 5 columns]"
      ]
     },
     "execution_count": 15,
     "metadata": {},
     "output_type": "execute_result"
    }
   ],
   "source": [
    "data"
   ]
  },
  {
   "cell_type": "markdown",
   "metadata": {},
   "source": [
    "### 4. Plotting"
   ]
  },
  {
   "cell_type": "code",
   "execution_count": 16,
   "metadata": {},
   "outputs": [],
   "source": [
    "import plotly.graph_objects as go"
   ]
  },
  {
   "cell_type": "code",
   "execution_count": 17,
   "metadata": {},
   "outputs": [
    {
     "data": {
      "application/vnd.plotly.v1+json": {
       "config": {
        "plotlyServerURL": "https://plot.ly"
       },
       "data": [
        {
         "close": {
          "bdata": "UrgehetBcEAAAAAAAFBwQPYoXI/CXXBAXI/C9ShgcEBxPQrXo3hwQOF6FK5Hf3BAhetRuB53cEBSuB6F63lwQPYoXI/CdXBA4XoUrkeNcEDgLZCg+BNxQD0K16NwMXFAzczMzMxMcUAfhetRuE5xQBSuR+F6THFAZmZmZmZOcUDNzMzMzAxxQAAAAAAAJHFAFK5H4XoacUA9CtejcBlxQKRwPQrXE3FAArwFEhROcUD+Q/rt60BxQBB6Nqs+W3FA9ihcj8K5cUDD9ShcjzJyQB+F61G4anFApHA9CtcbcUAK16NwPSpxQAAAAAAADHFAH4XrUbgWcUAzMzMzM9dwQAAAAAAAyHBApHA9CtcfcUBSuB6F60lxQClcj8L18HBA7FG4HoX/cEAfhetRuNpwQE5iEFg57HBAKVyPwvXgcEAK16NwPR5xQGZmZmZmTnFAZmZmZmZscUBmZmZmZspxQHsUrkfh3nFAw/UoXI/WcUCuR+F6FK5xQI/C9Shcu3FAAAAAAAD0cUAzMzMzM/txQDMzMzMz93FApHA9CtcHckCkcD0K1/9xQGZmZmZmonFASOF6FK5dcUCdgCbChnBxQHE9CtejVHFAH4XrUbhWcUB7FK5H4S5xQJqZmZmZoXFAexSuR+GucUBSuB6F65FxQEjhehSuX3FAH4XrUbhCcUACvAUSFKZxQArXo3A9hnFAuECC4seccUA9CtejcJVxQDMzMzMzZ3FA9ihcj8IdcUDhehSuRyVxQLWmeccpHnFAj8L1KFz/cEAK16NwPQJxQLgehetRuHBAMzMzMzMrcECkcD0K1zNwQJqZmZmZJXBAj8L1KFwbcEDNzMzMzDBwQGZmZmZmLm9AAAAAAAA4b0AfhetRuB5vQOxRuB6FK29ASOF6FK4jb0DsUbgehcNuQLgehetRyG5AswxxrIvZbkA2qz5XWyduQNBE2PD0KG5A16NwPQozbkBI4XoUrl9tQB+F61G4pm1ApHA9CtdbbUC4HoXrUVhtQDMzMzMzQ21AKVyPwvVgbUB7FK5H4XJtQDMzMzMzc21AzczMzMyMbUAAAAAAAIhtQPYoXI/CDW1A7FG4HoVbbUD2KFyPwi1tQPYoXI/C/WxAMzMzMzOLbUAu/yH99n1tQClcj8L1IG1AH4XrUbgWbUAAAAAAADBtQNejcD0KR21Aj8L1KFz/bUB2Tx4Wav1tQArXo3A9ym1AuB6F61G4bUD35GGh1oRtQI/C9Shcd21A16NwPQqvbUBmZmZmZh5tQLTIdr6fWm1AmpmZmZlxbUAUrkfheuRsQMP1KFyPumxAw/UoXI8KbUCF61G4Hg1tQHsUrkfhEm1AAAAAAADwbECkcD0K19tsQAAAAAAAeGxADJOpglGDbEAzMzMzM3NsQKrx0k1iOmxAj8L1KFwvbECamZmZmWFsQHE9CtejJGxAPQrXo3CFbEApXI/C9ZBsQHsUrkfhEmxAZRniWBf9a0CamZmZmZFsQHsUrkfh8mxA4XoUrkdRbUBmZmZmZlZtQK5H4XoUlm1AFK5H4XqEbUDXo3A9CqdtQFyPwvUopG1A16NwPQqnbUCamZmZmbltQAAAAAAA+G1AQYLix5iZbUBCYOXQIj9tQLhAguLHTG1AQKTfvg6WbUAUrkfhenRuQBSuR+F67G5AZmZmZmb2bkAfhetRuO5uQM3MzMzMvG5ArkfhehS2bkDD9ShcjzpvQI/C9ShcT29AAAAAAABYb0DXo3A9Cj9vQNejcD0KP29A7FG4HoU7b0AUrkfhehRvQM3MzMzMHG9AZmZmZmYib0BmZmZmZq5uQLgehetRaG5A9bnaiv3RbkDD9Shcj6JuQM3MzMzMlG5AZmZmZmaObkBxPQrXo3huQDMzMzMzI25Aw/UoXI86bkC4HoXrUQhuQFK4HoXrCW5ArkfhehQWbkCkcD0K1ytuQE5iEFg5wm1AJQaBlUOlbUCPwvUoXEttQHsUrkfhom1A7FG4HoWDbUD2KFyPwtVuQDMzMzMzs25AMzMzMzPzbkBxPQrXoxBvQEjhehSub25AmpmZmZmhb0CuR+F6FF5vQAAAAAAAMG9Aw/UoXI8eb0ApXI/C9QhvQPYoXI/CJW9AKVyPwvW4bkAfhetRuPZuQEtZhjjW225Aj8L1KFyHbkD2KFyPwtVuQOF6FK5HcW5ArBxaZDvjbUBxPQrXo7BtQHE9CtejyG1Aj8L1KFzPbUBI4XoUrl9tQIXrUbgeTW1AmpmZmZnpbEBxPQrXo8xsQAAAAAAA0GxAMzMzMzNhbUBcj8L1KIhsQJqZmZmZaWxAexSuR+FybEBmZmZmZv5rQM3MzMzMHG1AmpmZmZnZa0DNzMzMzIRsQDMzMzMze2xAH4XrUbjWbEAK16NwPQptQD0K16Nw5WpAj8L1KFxHa0BDrWnecURrQIXrUbge1WtAUrgehevBa0B7FK5H4dprQLgehetROGxAkxgEVg7fbEDqBDQRNtZtQM3MzMzM3G1AcT0K16N8bkAfhetRuJZvQJqZmZmZ2W9ASOF6FK7Hb0A9CtejcOVvQM3MzMzMtG9AW9O84xRmcECuR+F6FGZwQCZTBaOSaXBAhetRuB5pcEBmZmZmZmpwQD0K16NwSXBAyAc9m1V2cEBxPQrXowxwQAmKH2PulG9AuB6F61EwcEAK16NwPWBwQJqZmZmZOXBAAAAAAAAwcECF61G4HmVwQD0K16NwaXBAMzMzMzNvcEAzMzMzM1NwQBfZzvdTb3BAH4XrUbh+cEB0RpT2BohwQHsUrkfhdnBA001iEFhdcEBTBaOSOmxwQEjhehSuf3BAMzMzMzOLcECF61G4Ht1wQD0K16NwqXBAuB6F61H4cECkcD0K1wdxQPYoXI/CJXFAPQrXo3AZcUAAAAAAABhxQEjhehSuZ3FAeVioNc1kcUDhehSuR2FxQB+F61G4dHFAXI/C9Sh0cUApXI/C9UJxQIXrUbgeLXFA9ihcj8I1cUAAAAAAAARxQAAAAAAADnFAAAAAAAD4cED2KFyPwglxQKRwPQrXN3FAj8L1KFwvcUAK16NwPVpxQAAAAAAAgHFA7Q2+MJkZcUCkcD0K1/9wQD0K16NwhXFAmpmZmZlFcUB7FK5H4eZwQEjhehSuw3BAcT0K16OccEAK16NwPZ5wQK5H4XoUAnFAw/UoXI8mcUDD9Shcj35xQHE9CtejbHFAuB6F61G4cUAVjErqBJxxQK5H4XoUunFAmpmZmZmxcUCF61G4HslxQBSuR+F6zHFAhjjWxW21cUDdJAaBlf1xQNejcD0KH3JAZmZmZmbackBxPQrXo3ZyQJqZmZmZcXJASOF6FK7fckA9CtejcPFyQArXo3A9znJAPQrXo3CpckCPwvUoXJdyQDMzMzMzZ3JAXI/C9ShMckDXo3A9CkdyQGZmZmZmTnJAKVyPwvVUckAAAAAAABxyQB+F61G4snFAUrgeheu9cUCuR+F6FAxyQFyPwvUoPHJApHA9CteVcUDXo3A9CntxQJqZmZmZdXFA9ihcj8KpcUAK16NwPZpxQM3MzMzMtHFAH4XrUbikcUACvAUSFLJxQJqZmZmZmXFAUrgeheudcUCPwvUoXJ9xQPaX3ZOHy3FArK3YX3YIckDD9ShcjxhyQMP1KFyP2nFAQfFjzF3ncUDD9Shcj7JxQHE9CtejaHJAmpmZmZmVckBI4XoUrn9yQM3MzMzMfHJAexSuR+FyckA=",
          "dtype": "f8"
         },
         "high": {
          "bdata": "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",
          "dtype": "f8"
         },
         "low": {
          "bdata": "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",
          "dtype": "f8"
         },
         "open": {
          "bdata": "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",
          "dtype": "f8"
         },
         "type": "candlestick",
         "x": [
          "2025-03-28T19:00:00.000000000",
          "2025-03-28T18:00:00.000000000",
          "2025-03-28T17:00:00.000000000",
          "2025-03-28T16:00:00.000000000",
          "2025-03-28T15:00:00.000000000",
          "2025-03-28T14:00:00.000000000",
          "2025-03-28T13:00:00.000000000",
          "2025-03-28T12:00:00.000000000",
          "2025-03-28T11:00:00.000000000",
          "2025-03-28T10:00:00.000000000",
          "2025-03-28T09:00:00.000000000",
          "2025-03-28T08:00:00.000000000",
          "2025-03-28T07:00:00.000000000",
          "2025-03-28T06:00:00.000000000",
          "2025-03-28T05:00:00.000000000",
          "2025-03-28T04:00:00.000000000",
          "2025-03-27T19:00:00.000000000",
          "2025-03-27T18:00:00.000000000",
          "2025-03-27T17:00:00.000000000",
          "2025-03-27T16:00:00.000000000",
          "2025-03-27T15:00:00.000000000",
          "2025-03-27T14:00:00.000000000",
          "2025-03-27T13:00:00.000000000",
          "2025-03-27T12:00:00.000000000",
          "2025-03-27T11:00:00.000000000",
          "2025-03-27T10:00:00.000000000",
          "2025-03-27T09:00:00.000000000",
          "2025-03-27T08:00:00.000000000",
          "2025-03-27T07:00:00.000000000",
          "2025-03-27T06:00:00.000000000",
          "2025-03-27T05:00:00.000000000",
          "2025-03-27T04:00:00.000000000",
          "2025-03-26T19:00:00.000000000",
          "2025-03-26T18:00:00.000000000",
          "2025-03-26T17:00:00.000000000",
          "2025-03-26T16:00:00.000000000",
          "2025-03-26T15:00:00.000000000",
          "2025-03-26T14:00:00.000000000",
          "2025-03-26T13:00:00.000000000",
          "2025-03-26T12:00:00.000000000",
          "2025-03-26T11:00:00.000000000",
          "2025-03-26T10:00:00.000000000",
          "2025-03-26T09:00:00.000000000",
          "2025-03-26T08:00:00.000000000",
          "2025-03-26T07:00:00.000000000",
          "2025-03-26T06:00:00.000000000",
          "2025-03-26T05:00:00.000000000",
          "2025-03-26T04:00:00.000000000",
          "2025-03-25T19:00:00.000000000",
          "2025-03-25T18:00:00.000000000",
          "2025-03-25T17:00:00.000000000",
          "2025-03-25T16:00:00.000000000",
          "2025-03-25T15:00:00.000000000",
          "2025-03-25T14:00:00.000000000",
          "2025-03-25T13:00:00.000000000",
          "2025-03-25T12:00:00.000000000",
          "2025-03-25T11:00:00.000000000",
          "2025-03-25T10:00:00.000000000",
          "2025-03-25T09:00:00.000000000",
          "2025-03-25T08:00:00.000000000",
          "2025-03-25T07:00:00.000000000",
          "2025-03-25T06:00:00.000000000",
          "2025-03-25T05:00:00.000000000",
          "2025-03-25T04:00:00.000000000",
          "2025-03-24T19:00:00.000000000",
          "2025-03-24T18:00:00.000000000",
          "2025-03-24T17:00:00.000000000",
          "2025-03-24T16:00:00.000000000",
          "2025-03-24T15:00:00.000000000",
          "2025-03-24T14:00:00.000000000",
          "2025-03-24T13:00:00.000000000",
          "2025-03-24T12:00:00.000000000",
          "2025-03-24T11:00:00.000000000",
          "2025-03-24T10:00:00.000000000",
          "2025-03-24T09:00:00.000000000",
          "2025-03-24T08:00:00.000000000",
          "2025-03-24T07:00:00.000000000",
          "2025-03-24T06:00:00.000000000",
          "2025-03-24T05:00:00.000000000",
          "2025-03-24T04:00:00.000000000",
          "2025-03-21T19:00:00.000000000",
          "2025-03-21T18:00:00.000000000",
          "2025-03-21T17:00:00.000000000",
          "2025-03-21T16:00:00.000000000",
          "2025-03-21T15:00:00.000000000",
          "2025-03-21T14:00:00.000000000",
          "2025-03-21T13:00:00.000000000",
          "2025-03-21T12:00:00.000000000",
          "2025-03-21T11:00:00.000000000",
          "2025-03-21T10:00:00.000000000",
          "2025-03-21T09:00:00.000000000",
          "2025-03-21T08:00:00.000000000",
          "2025-03-21T07:00:00.000000000",
          "2025-03-21T06:00:00.000000000",
          "2025-03-21T05:00:00.000000000",
          "2025-03-21T04:00:00.000000000",
          "2025-03-20T19:00:00.000000000",
          "2025-03-20T18:00:00.000000000",
          "2025-03-20T17:00:00.000000000",
          "2025-03-20T16:00:00.000000000",
          "2025-03-20T15:00:00.000000000",
          "2025-03-20T14:00:00.000000000",
          "2025-03-20T13:00:00.000000000",
          "2025-03-20T12:00:00.000000000",
          "2025-03-20T11:00:00.000000000",
          "2025-03-20T10:00:00.000000000",
          "2025-03-20T09:00:00.000000000",
          "2025-03-20T08:00:00.000000000",
          "2025-03-20T07:00:00.000000000",
          "2025-03-20T06:00:00.000000000",
          "2025-03-20T05:00:00.000000000",
          "2025-03-20T04:00:00.000000000",
          "2025-03-19T19:00:00.000000000",
          "2025-03-19T18:00:00.000000000",
          "2025-03-19T17:00:00.000000000",
          "2025-03-19T16:00:00.000000000",
          "2025-03-19T15:00:00.000000000",
          "2025-03-19T14:00:00.000000000",
          "2025-03-19T13:00:00.000000000",
          "2025-03-19T12:00:00.000000000",
          "2025-03-19T11:00:00.000000000",
          "2025-03-19T10:00:00.000000000",
          "2025-03-19T09:00:00.000000000",
          "2025-03-19T08:00:00.000000000",
          "2025-03-19T07:00:00.000000000",
          "2025-03-19T06:00:00.000000000",
          "2025-03-19T05:00:00.000000000",
          "2025-03-19T04:00:00.000000000",
          "2025-03-18T19:00:00.000000000",
          "2025-03-18T18:00:00.000000000",
          "2025-03-18T17:00:00.000000000",
          "2025-03-18T16:00:00.000000000",
          "2025-03-18T15:00:00.000000000",
          "2025-03-18T14:00:00.000000000",
          "2025-03-18T13:00:00.000000000",
          "2025-03-18T12:00:00.000000000",
          "2025-03-18T11:00:00.000000000",
          "2025-03-18T10:00:00.000000000",
          "2025-03-18T09:00:00.000000000",
          "2025-03-18T08:00:00.000000000",
          "2025-03-18T07:00:00.000000000",
          "2025-03-18T06:00:00.000000000",
          "2025-03-18T05:00:00.000000000",
          "2025-03-18T04:00:00.000000000",
          "2025-03-17T19:00:00.000000000",
          "2025-03-17T18:00:00.000000000",
          "2025-03-17T17:00:00.000000000",
          "2025-03-17T16:00:00.000000000",
          "2025-03-17T15:00:00.000000000",
          "2025-03-17T14:00:00.000000000",
          "2025-03-17T13:00:00.000000000",
          "2025-03-17T12:00:00.000000000",
          "2025-03-17T11:00:00.000000000",
          "2025-03-17T10:00:00.000000000",
          "2025-03-17T09:00:00.000000000",
          "2025-03-17T08:00:00.000000000",
          "2025-03-17T07:00:00.000000000",
          "2025-03-17T06:00:00.000000000",
          "2025-03-17T05:00:00.000000000",
          "2025-03-17T04:00:00.000000000",
          "2025-03-14T19:00:00.000000000",
          "2025-03-14T18:00:00.000000000",
          "2025-03-14T17:00:00.000000000",
          "2025-03-14T16:00:00.000000000",
          "2025-03-14T15:00:00.000000000",
          "2025-03-14T14:00:00.000000000",
          "2025-03-14T13:00:00.000000000",
          "2025-03-14T12:00:00.000000000",
          "2025-03-14T11:00:00.000000000",
          "2025-03-14T10:00:00.000000000",
          "2025-03-14T09:00:00.000000000",
          "2025-03-14T08:00:00.000000000",
          "2025-03-14T07:00:00.000000000",
          "2025-03-14T06:00:00.000000000",
          "2025-03-14T05:00:00.000000000",
          "2025-03-14T04:00:00.000000000",
          "2025-03-13T19:00:00.000000000",
          "2025-03-13T18:00:00.000000000",
          "2025-03-13T17:00:00.000000000",
          "2025-03-13T16:00:00.000000000",
          "2025-03-13T15:00:00.000000000",
          "2025-03-13T14:00:00.000000000",
          "2025-03-13T13:00:00.000000000",
          "2025-03-13T12:00:00.000000000",
          "2025-03-13T11:00:00.000000000",
          "2025-03-13T10:00:00.000000000",
          "2025-03-13T09:00:00.000000000",
          "2025-03-13T08:00:00.000000000",
          "2025-03-13T07:00:00.000000000",
          "2025-03-13T06:00:00.000000000",
          "2025-03-13T05:00:00.000000000",
          "2025-03-13T04:00:00.000000000",
          "2025-03-12T19:00:00.000000000",
          "2025-03-12T18:00:00.000000000",
          "2025-03-12T17:00:00.000000000",
          "2025-03-12T16:00:00.000000000",
          "2025-03-12T15:00:00.000000000",
          "2025-03-12T14:00:00.000000000",
          "2025-03-12T13:00:00.000000000",
          "2025-03-12T12:00:00.000000000",
          "2025-03-12T11:00:00.000000000",
          "2025-03-12T10:00:00.000000000",
          "2025-03-12T09:00:00.000000000",
          "2025-03-12T08:00:00.000000000",
          "2025-03-12T07:00:00.000000000",
          "2025-03-12T06:00:00.000000000",
          "2025-03-12T05:00:00.000000000",
          "2025-03-12T04:00:00.000000000",
          "2025-03-11T19:00:00.000000000",
          "2025-03-11T18:00:00.000000000",
          "2025-03-11T17:00:00.000000000",
          "2025-03-11T16:00:00.000000000",
          "2025-03-11T15:00:00.000000000",
          "2025-03-11T14:00:00.000000000",
          "2025-03-11T13:00:00.000000000",
          "2025-03-11T12:00:00.000000000",
          "2025-03-11T11:00:00.000000000",
          "2025-03-11T10:00:00.000000000",
          "2025-03-11T09:00:00.000000000",
          "2025-03-11T08:00:00.000000000",
          "2025-03-11T07:00:00.000000000",
          "2025-03-11T06:00:00.000000000",
          "2025-03-11T05:00:00.000000000",
          "2025-03-11T04:00:00.000000000",
          "2025-03-10T19:00:00.000000000",
          "2025-03-10T18:00:00.000000000",
          "2025-03-10T17:00:00.000000000",
          "2025-03-10T16:00:00.000000000",
          "2025-03-10T15:00:00.000000000",
          "2025-03-10T14:00:00.000000000",
          "2025-03-10T13:00:00.000000000",
          "2025-03-10T12:00:00.000000000",
          "2025-03-10T11:00:00.000000000",
          "2025-03-10T10:00:00.000000000",
          "2025-03-10T09:00:00.000000000",
          "2025-03-10T08:00:00.000000000",
          "2025-03-10T07:00:00.000000000",
          "2025-03-10T06:00:00.000000000",
          "2025-03-10T05:00:00.000000000",
          "2025-03-10T04:00:00.000000000",
          "2025-03-07T19:00:00.000000000",
          "2025-03-07T18:00:00.000000000",
          "2025-03-07T17:00:00.000000000",
          "2025-03-07T16:00:00.000000000",
          "2025-03-07T15:00:00.000000000",
          "2025-03-07T14:00:00.000000000",
          "2025-03-07T13:00:00.000000000",
          "2025-03-07T12:00:00.000000000",
          "2025-03-07T11:00:00.000000000",
          "2025-03-07T10:00:00.000000000",
          "2025-03-07T09:00:00.000000000",
          "2025-03-07T08:00:00.000000000",
          "2025-03-07T07:00:00.000000000",
          "2025-03-07T06:00:00.000000000",
          "2025-03-07T05:00:00.000000000",
          "2025-03-07T04:00:00.000000000",
          "2025-03-06T19:00:00.000000000",
          "2025-03-06T18:00:00.000000000",
          "2025-03-06T17:00:00.000000000",
          "2025-03-06T16:00:00.000000000",
          "2025-03-06T15:00:00.000000000",
          "2025-03-06T14:00:00.000000000",
          "2025-03-06T13:00:00.000000000",
          "2025-03-06T12:00:00.000000000",
          "2025-03-06T11:00:00.000000000",
          "2025-03-06T10:00:00.000000000",
          "2025-03-06T09:00:00.000000000",
          "2025-03-06T08:00:00.000000000",
          "2025-03-06T07:00:00.000000000",
          "2025-03-06T06:00:00.000000000",
          "2025-03-06T05:00:00.000000000",
          "2025-03-06T04:00:00.000000000",
          "2025-03-05T19:00:00.000000000",
          "2025-03-05T18:00:00.000000000",
          "2025-03-05T17:00:00.000000000",
          "2025-03-05T16:00:00.000000000",
          "2025-03-05T15:00:00.000000000",
          "2025-03-05T14:00:00.000000000",
          "2025-03-05T13:00:00.000000000",
          "2025-03-05T12:00:00.000000000",
          "2025-03-05T11:00:00.000000000",
          "2025-03-05T10:00:00.000000000",
          "2025-03-05T09:00:00.000000000",
          "2025-03-05T08:00:00.000000000",
          "2025-03-05T07:00:00.000000000",
          "2025-03-05T06:00:00.000000000",
          "2025-03-05T05:00:00.000000000",
          "2025-03-05T04:00:00.000000000",
          "2025-03-04T16:00:00.000000000",
          "2025-03-04T15:00:00.000000000",
          "2025-03-04T14:00:00.000000000",
          "2025-03-04T13:00:00.000000000",
          "2025-03-04T12:00:00.000000000",
          "2025-03-04T11:00:00.000000000",
          "2025-03-04T10:00:00.000000000",
          "2025-03-04T09:00:00.000000000",
          "2025-03-04T08:00:00.000000000",
          "2025-03-04T07:00:00.000000000",
          "2025-03-04T06:00:00.000000000",
          "2025-03-04T05:00:00.000000000",
          "2025-03-04T04:00:00.000000000",
          "2025-03-03T19:00:00.000000000",
          "2025-03-03T18:00:00.000000000",
          "2025-03-03T17:00:00.000000000",
          "2025-03-03T16:00:00.000000000",
          "2025-03-03T15:00:00.000000000",
          "2025-03-03T14:00:00.000000000",
          "2025-03-03T13:00:00.000000000",
          "2025-03-03T12:00:00.000000000",
          "2025-03-03T11:00:00.000000000",
          "2025-03-03T10:00:00.000000000",
          "2025-03-03T09:00:00.000000000",
          "2025-03-03T08:00:00.000000000",
          "2025-03-03T07:00:00.000000000",
          "2025-03-03T06:00:00.000000000",
          "2025-03-03T05:00:00.000000000",
          "2025-03-03T04:00:00.000000000",
          "2025-02-28T19:00:00.000000000",
          "2025-02-28T18:00:00.000000000",
          "2025-02-28T17:00:00.000000000",
          "2025-02-28T16:00:00.000000000",
          "2025-02-28T15:00:00.000000000",
          "2025-02-28T14:00:00.000000000",
          "2025-02-28T13:00:00.000000000",
          "2025-02-28T12:00:00.000000000",
          "2025-02-28T11:00:00.000000000",
          "2025-02-28T10:00:00.000000000",
          "2025-02-28T09:00:00.000000000",
          "2025-02-28T08:00:00.000000000",
          "2025-02-28T07:00:00.000000000",
          "2025-02-28T06:00:00.000000000",
          "2025-02-28T05:00:00.000000000",
          "2025-02-28T04:00:00.000000000",
          "2025-02-27T19:00:00.000000000",
          "2025-02-27T18:00:00.000000000",
          "2025-02-27T17:00:00.000000000",
          "2025-02-27T16:00:00.000000000",
          "2025-02-27T15:00:00.000000000",
          "2025-02-27T14:00:00.000000000",
          "2025-02-27T13:00:00.000000000",
          "2025-02-27T12:00:00.000000000",
          "2025-02-27T11:00:00.000000000",
          "2025-02-27T10:00:00.000000000",
          "2025-02-27T09:00:00.000000000",
          "2025-02-27T08:00:00.000000000",
          "2025-02-27T07:00:00.000000000",
          "2025-02-27T06:00:00.000000000",
          "2025-02-27T05:00:00.000000000",
          "2025-02-27T04:00:00.000000000"
         ]
        }
       ],
       "layout": {
        "template": {
         "data": {
          "bar": [
           {
            "error_x": {
             "color": "#2a3f5f"
            },
            "error_y": {
             "color": "#2a3f5f"
            },
            "marker": {
             "line": {
              "color": "#E5ECF6",
              "width": 0.5
             },
             "pattern": {
              "fillmode": "overlay",
              "size": 10,
              "solidity": 0.2
             }
            },
            "type": "bar"
           }
          ],
          "barpolar": [
           {
            "marker": {
             "line": {
              "color": "#E5ECF6",
              "width": 0.5
             },
             "pattern": {
              "fillmode": "overlay",
              "size": 10,
              "solidity": 0.2
             }
            },
            "type": "barpolar"
           }
          ],
          "carpet": [
           {
            "aaxis": {
             "endlinecolor": "#2a3f5f",
             "gridcolor": "white",
             "linecolor": "white",
             "minorgridcolor": "white",
             "startlinecolor": "#2a3f5f"
            },
            "baxis": {
             "endlinecolor": "#2a3f5f",
             "gridcolor": "white",
             "linecolor": "white",
             "minorgridcolor": "white",
             "startlinecolor": "#2a3f5f"
            },
            "type": "carpet"
           }
          ],
          "choropleth": [
           {
            "colorbar": {
             "outlinewidth": 0,
             "ticks": ""
            },
            "type": "choropleth"
           }
          ],
          "contour": [
           {
            "colorbar": {
             "outlinewidth": 0,
             "ticks": ""
            },
            "colorscale": [
             [
              0,
              "#0d0887"
             ],
             [
              0.1111111111111111,
              "#46039f"
             ],
             [
              0.2222222222222222,
              "#7201a8"
             ],
             [
              0.3333333333333333,
              "#9c179e"
             ],
             [
              0.4444444444444444,
              "#bd3786"
             ],
             [
              0.5555555555555556,
              "#d8576b"
             ],
             [
              0.6666666666666666,
              "#ed7953"
             ],
             [
              0.7777777777777778,
              "#fb9f3a"
             ],
             [
              0.8888888888888888,
              "#fdca26"
             ],
             [
              1,
              "#f0f921"
             ]
            ],
            "type": "contour"
           }
          ],
          "contourcarpet": [
           {
            "colorbar": {
             "outlinewidth": 0,
             "ticks": ""
            },
            "type": "contourcarpet"
           }
          ],
          "heatmap": [
           {
            "colorbar": {
             "outlinewidth": 0,
             "ticks": ""
            },
            "colorscale": [
             [
              0,
              "#0d0887"
             ],
             [
              0.1111111111111111,
              "#46039f"
             ],
             [
              0.2222222222222222,
              "#7201a8"
             ],
             [
              0.3333333333333333,
              "#9c179e"
             ],
             [
              0.4444444444444444,
              "#bd3786"
             ],
             [
              0.5555555555555556,
              "#d8576b"
             ],
             [
              0.6666666666666666,
              "#ed7953"
             ],
             [
              0.7777777777777778,
              "#fb9f3a"
             ],
             [
              0.8888888888888888,
              "#fdca26"
             ],
             [
              1,
              "#f0f921"
             ]
            ],
            "type": "heatmap"
           }
          ],
          "histogram": [
           {
            "marker": {
             "pattern": {
              "fillmode": "overlay",
              "size": 10,
              "solidity": 0.2
             }
            },
            "type": "histogram"
           }
          ],
          "histogram2d": [
           {
            "colorbar": {
             "outlinewidth": 0,
             "ticks": ""
            },
            "colorscale": [
             [
              0,
              "#0d0887"
             ],
             [
              0.1111111111111111,
              "#46039f"
             ],
             [
              0.2222222222222222,
              "#7201a8"
             ],
             [
              0.3333333333333333,
              "#9c179e"
             ],
             [
              0.4444444444444444,
              "#bd3786"
             ],
             [
              0.5555555555555556,
              "#d8576b"
             ],
             [
              0.6666666666666666,
              "#ed7953"
             ],
             [
              0.7777777777777778,
              "#fb9f3a"
             ],
             [
              0.8888888888888888,
              "#fdca26"
             ],
             [
              1,
              "#f0f921"
             ]
            ],
            "type": "histogram2d"
           }
          ],
          "histogram2dcontour": [
           {
            "colorbar": {
             "outlinewidth": 0,
             "ticks": ""
            },
            "colorscale": [
             [
              0,
              "#0d0887"
             ],
             [
              0.1111111111111111,
              "#46039f"
             ],
             [
              0.2222222222222222,
              "#7201a8"
             ],
             [
              0.3333333333333333,
              "#9c179e"
             ],
             [
              0.4444444444444444,
              "#bd3786"
             ],
             [
              0.5555555555555556,
              "#d8576b"
             ],
             [
              0.6666666666666666,
              "#ed7953"
             ],
             [
              0.7777777777777778,
              "#fb9f3a"
             ],
             [
              0.8888888888888888,
              "#fdca26"
             ],
             [
              1,
              "#f0f921"
             ]
            ],
            "type": "histogram2dcontour"
           }
          ],
          "mesh3d": [
           {
            "colorbar": {
             "outlinewidth": 0,
             "ticks": ""
            },
            "type": "mesh3d"
           }
          ],
          "parcoords": [
           {
            "line": {
             "colorbar": {
              "outlinewidth": 0,
              "ticks": ""
             }
            },
            "type": "parcoords"
           }
          ],
          "pie": [
           {
            "automargin": true,
            "type": "pie"
           }
          ],
          "scatter": [
           {
            "fillpattern": {
             "fillmode": "overlay",
             "size": 10,
             "solidity": 0.2
            },
            "type": "scatter"
           }
          ],
          "scatter3d": [
           {
            "line": {
             "colorbar": {
              "outlinewidth": 0,
              "ticks": ""
             }
            },
            "marker": {
             "colorbar": {
              "outlinewidth": 0,
              "ticks": ""
             }
            },
            "type": "scatter3d"
           }
          ],
          "scattercarpet": [
           {
            "marker": {
             "colorbar": {
              "outlinewidth": 0,
              "ticks": ""
             }
            },
            "type": "scattercarpet"
           }
          ],
          "scattergeo": [
           {
            "marker": {
             "colorbar": {
              "outlinewidth": 0,
              "ticks": ""
             }
            },
            "type": "scattergeo"
           }
          ],
          "scattergl": [
           {
            "marker": {
             "colorbar": {
              "outlinewidth": 0,
              "ticks": ""
             }
            },
            "type": "scattergl"
           }
          ],
          "scattermap": [
           {
            "marker": {
             "colorbar": {
              "outlinewidth": 0,
              "ticks": ""
             }
            },
            "type": "scattermap"
           }
          ],
          "scattermapbox": [
           {
            "marker": {
             "colorbar": {
              "outlinewidth": 0,
              "ticks": ""
             }
            },
            "type": "scattermapbox"
           }
          ],
          "scatterpolar": [
           {
            "marker": {
             "colorbar": {
              "outlinewidth": 0,
              "ticks": ""
             }
            },
            "type": "scatterpolar"
           }
          ],
          "scatterpolargl": [
           {
            "marker": {
             "colorbar": {
              "outlinewidth": 0,
              "ticks": ""
             }
            },
            "type": "scatterpolargl"
           }
          ],
          "scatterternary": [
           {
            "marker": {
             "colorbar": {
              "outlinewidth": 0,
              "ticks": ""
             }
            },
            "type": "scatterternary"
           }
          ],
          "surface": [
           {
            "colorbar": {
             "outlinewidth": 0,
             "ticks": ""
            },
            "colorscale": [
             [
              0,
              "#0d0887"
             ],
             [
              0.1111111111111111,
              "#46039f"
             ],
             [
              0.2222222222222222,
              "#7201a8"
             ],
             [
              0.3333333333333333,
              "#9c179e"
             ],
             [
              0.4444444444444444,
              "#bd3786"
             ],
             [
              0.5555555555555556,
              "#d8576b"
             ],
             [
              0.6666666666666666,
              "#ed7953"
             ],
             [
              0.7777777777777778,
              "#fb9f3a"
             ],
             [
              0.8888888888888888,
              "#fdca26"
             ],
             [
              1,
              "#f0f921"
             ]
            ],
            "type": "surface"
           }
          ],
          "table": [
           {
            "cells": {
             "fill": {
              "color": "#EBF0F8"
             },
             "line": {
              "color": "white"
             }
            },
            "header": {
             "fill": {
              "color": "#C8D4E3"
             },
             "line": {
              "color": "white"
             }
            },
            "type": "table"
           }
          ]
         },
         "layout": {
          "annotationdefaults": {
           "arrowcolor": "#2a3f5f",
           "arrowhead": 0,
           "arrowwidth": 1
          },
          "autotypenumbers": "strict",
          "coloraxis": {
           "colorbar": {
            "outlinewidth": 0,
            "ticks": ""
           }
          },
          "colorscale": {
           "diverging": [
            [
             0,
             "#8e0152"
            ],
            [
             0.1,
             "#c51b7d"
            ],
            [
             0.2,
             "#de77ae"
            ],
            [
             0.3,
             "#f1b6da"
            ],
            [
             0.4,
             "#fde0ef"
            ],
            [
             0.5,
             "#f7f7f7"
            ],
            [
             0.6,
             "#e6f5d0"
            ],
            [
             0.7,
             "#b8e186"
            ],
            [
             0.8,
             "#7fbc41"
            ],
            [
             0.9,
             "#4d9221"
            ],
            [
             1,
             "#276419"
            ]
           ],
           "sequential": [
            [
             0,
             "#0d0887"
            ],
            [
             0.1111111111111111,
             "#46039f"
            ],
            [
             0.2222222222222222,
             "#7201a8"
            ],
            [
             0.3333333333333333,
             "#9c179e"
            ],
            [
             0.4444444444444444,
             "#bd3786"
            ],
            [
             0.5555555555555556,
             "#d8576b"
            ],
            [
             0.6666666666666666,
             "#ed7953"
            ],
            [
             0.7777777777777778,
             "#fb9f3a"
            ],
            [
             0.8888888888888888,
             "#fdca26"
            ],
            [
             1,
             "#f0f921"
            ]
           ],
           "sequentialminus": [
            [
             0,
             "#0d0887"
            ],
            [
             0.1111111111111111,
             "#46039f"
            ],
            [
             0.2222222222222222,
             "#7201a8"
            ],
            [
             0.3333333333333333,
             "#9c179e"
            ],
            [
             0.4444444444444444,
             "#bd3786"
            ],
            [
             0.5555555555555556,
             "#d8576b"
            ],
            [
             0.6666666666666666,
             "#ed7953"
            ],
            [
             0.7777777777777778,
             "#fb9f3a"
            ],
            [
             0.8888888888888888,
             "#fdca26"
            ],
            [
             1,
             "#f0f921"
            ]
           ]
          },
          "colorway": [
           "#636efa",
           "#EF553B",
           "#00cc96",
           "#ab63fa",
           "#FFA15A",
           "#19d3f3",
           "#FF6692",
           "#B6E880",
           "#FF97FF",
           "#FECB52"
          ],
          "font": {
           "color": "#2a3f5f"
          },
          "geo": {
           "bgcolor": "white",
           "lakecolor": "white",
           "landcolor": "#E5ECF6",
           "showlakes": true,
           "showland": true,
           "subunitcolor": "white"
          },
          "hoverlabel": {
           "align": "left"
          },
          "hovermode": "closest",
          "mapbox": {
           "style": "light"
          },
          "paper_bgcolor": "white",
          "plot_bgcolor": "#E5ECF6",
          "polar": {
           "angularaxis": {
            "gridcolor": "white",
            "linecolor": "white",
            "ticks": ""
           },
           "bgcolor": "#E5ECF6",
           "radialaxis": {
            "gridcolor": "white",
            "linecolor": "white",
            "ticks": ""
           }
          },
          "scene": {
           "xaxis": {
            "backgroundcolor": "#E5ECF6",
            "gridcolor": "white",
            "gridwidth": 2,
            "linecolor": "white",
            "showbackground": true,
            "ticks": "",
            "zerolinecolor": "white"
           },
           "yaxis": {
            "backgroundcolor": "#E5ECF6",
            "gridcolor": "white",
            "gridwidth": 2,
            "linecolor": "white",
            "showbackground": true,
            "ticks": "",
            "zerolinecolor": "white"
           },
           "zaxis": {
            "backgroundcolor": "#E5ECF6",
            "gridcolor": "white",
            "gridwidth": 2,
            "linecolor": "white",
            "showbackground": true,
            "ticks": "",
            "zerolinecolor": "white"
           }
          },
          "shapedefaults": {
           "line": {
            "color": "#2a3f5f"
           }
          },
          "ternary": {
           "aaxis": {
            "gridcolor": "white",
            "linecolor": "white",
            "ticks": ""
           },
           "baxis": {
            "gridcolor": "white",
            "linecolor": "white",
            "ticks": ""
           },
           "bgcolor": "#E5ECF6",
           "caxis": {
            "gridcolor": "white",
            "linecolor": "white",
            "ticks": ""
           }
          },
          "title": {
           "x": 0.05
          },
          "xaxis": {
           "automargin": true,
           "gridcolor": "white",
           "linecolor": "white",
           "ticks": "",
           "title": {
            "standoff": 15
           },
           "zerolinecolor": "white",
           "zerolinewidth": 2
          },
          "yaxis": {
           "automargin": true,
           "gridcolor": "white",
           "linecolor": "white",
           "ticks": "",
           "title": {
            "standoff": 15
           },
           "zerolinecolor": "white",
           "zerolinewidth": 2
          }
         }
        },
        "title": {
         "text": "TESLA Candlestick Chart"
        }
       }
      }
     },
     "metadata": {},
     "output_type": "display_data"
    }
   ],
   "source": [
    "fig = go.Figure(data=[go.Candlestick(x=data.index,\n",
    "                open=data['open'], high=data['high'],\n",
    "                low=data['low'], close=data['close'])])\n",
    "\n",
    "fig.update_layout(title=\"TESLA Candlestick Chart\")\n",
    "fig.show()"
   ]
  },
  {
   "cell_type": "markdown",
   "metadata": {},
   "source": [
    "### Install plfinance \n",
    "    Utilities for the visualization, and visual analysis, of financial data"
   ]
  },
  {
   "cell_type": "code",
   "execution_count": null,
   "metadata": {},
   "outputs": [],
   "source": [
    "# %pip install --upgrade mplfinance"
   ]
  },
  {
   "cell_type": "code",
   "execution_count": 18,
   "metadata": {},
   "outputs": [],
   "source": [
    "import mplfinance as mpf"
   ]
  },
  {
   "cell_type": "code",
   "execution_count": 19,
   "metadata": {},
   "outputs": [
    {
     "data": {
      "image/png": "[encoded data removed]",
      "text/plain": [
       "<Figure size 800x575 with 2 Axes>"
      ]
     },
     "metadata": {},
     "output_type": "display_data"
    }
   ],
   "source": [
    "mpf.plot(data)"
   ]
  },
  {
   "cell_type": "code",
   "execution_count": 20,
   "metadata": {},
   "outputs": [
    {
     "name": "stdout",
     "output_type": "stream",
     "text": [
      "<class 'pandas.core.frame.DataFrame'>\n",
      "DatetimeIndex: 154 entries, 2025-02-27 10:00:00 to 2025-03-28 16:00:00\n",
      "Data columns (total 5 columns):\n",
      " #   Column  Non-Null Count  Dtype  \n",
      "---  ------  --------------  -----  \n",
      " 0   open    154 non-null    float64\n",
      " 1   high    154 non-null    float64\n",
      " 2   low     154 non-null    float64\n",
      " 3   close   154 non-null    float64\n",
      " 4   volume  154 non-null    float64\n",
      "dtypes: float64(5)\n",
      "memory usage: 7.2 KB\n"
     ]
    }
   ],
   "source": [
    "market = data.between_time('09:30:00', '16:00:00').copy()\n",
    "market.sort_index(inplace=True)\n",
    "market.info()"
   ]
  },
  {
   "cell_type": "code",
   "execution_count": 22,
   "metadata": {},
   "outputs": [
    {
     "name": "stderr",
     "output_type": "stream",
     "text": [
      "C:\\Users\\DELL\\AppData\\Local\\Temp\\ipykernel_19084\\3833834504.py:1: FutureWarning:\n",
      "\n",
      "The provided callable <built-in function min> is currently using SeriesGroupBy.min. In a future version of pandas, the provided callable will be used directly. To keep current behavior pass the string \"min\" instead.\n",
      "\n",
      "C:\\Users\\DELL\\AppData\\Local\\Temp\\ipykernel_19084\\3833834504.py:1: FutureWarning:\n",
      "\n",
      "The provided callable <built-in function max> is currently using SeriesGroupBy.max. In a future version of pandas, the provided callable will be used directly. To keep current behavior pass the string \"max\" instead.\n",
      "\n"
     ]
    },
    {
     "data": {
      "text/html": [
       "<div>\n",
       "<style scoped>\n",
       "    .dataframe tbody tr th:only-of-type {\n",
       "        vertical-align: middle;\n",
       "    }\n",
       "\n",
       "    .dataframe tbody tr th {\n",
       "        vertical-align: top;\n",
       "    }\n",
       "\n",
       "    .dataframe thead th {\n",
       "        text-align: right;\n",
       "    }\n",
       "</style>\n",
       "<table border=\"1\" class=\"dataframe\">\n",
       "  <thead>\n",
       "    <tr style=\"text-align: right;\">\n",
       "      <th></th>\n",
       "      <th>low</th>\n",
       "      <th>high</th>\n",
       "    </tr>\n",
       "    <tr>\n",
       "      <th>date</th>\n",
       "      <th></th>\n",
       "      <th></th>\n",
       "    </tr>\n",
       "  </thead>\n",
       "  <tbody>\n",
       "    <tr>\n",
       "      <th>2025-02-27 10:00:00</th>\n",
       "      <td>280.8800</td>\n",
       "      <td>293.5200</td>\n",
       "    </tr>\n",
       "    <tr>\n",
       "      <th>2025-02-27 11:00:00</th>\n",
       "      <td>285.4100</td>\n",
       "      <td>292.0000</td>\n",
       "    </tr>\n",
       "    <tr>\n",
       "      <th>2025-02-27 12:00:00</th>\n",
       "      <td>284.3300</td>\n",
       "      <td>289.8300</td>\n",
       "    </tr>\n",
       "    <tr>\n",
       "      <th>2025-02-27 13:00:00</th>\n",
       "      <td>287.9600</td>\n",
       "      <td>291.8244</td>\n",
       "    </tr>\n",
       "    <tr>\n",
       "      <th>2025-02-27 14:00:00</th>\n",
       "      <td>282.9600</td>\n",
       "      <td>288.7299</td>\n",
       "    </tr>\n",
       "    <tr>\n",
       "      <th>...</th>\n",
       "      <td>...</td>\n",
       "      <td>...</td>\n",
       "    </tr>\n",
       "    <tr>\n",
       "      <th>2025-03-28 12:00:00</th>\n",
       "      <td>261.7500</td>\n",
       "      <td>265.0999</td>\n",
       "    </tr>\n",
       "    <tr>\n",
       "      <th>2025-03-28 13:00:00</th>\n",
       "      <td>262.3600</td>\n",
       "      <td>266.0000</td>\n",
       "    </tr>\n",
       "    <tr>\n",
       "      <th>2025-03-28 14:00:00</th>\n",
       "      <td>262.7700</td>\n",
       "      <td>265.4000</td>\n",
       "    </tr>\n",
       "    <tr>\n",
       "      <th>2025-03-28 15:00:00</th>\n",
       "      <td>260.5700</td>\n",
       "      <td>264.8346</td>\n",
       "    </tr>\n",
       "    <tr>\n",
       "      <th>2025-03-28 16:00:00</th>\n",
       "      <td>244.1347</td>\n",
       "      <td>274.4579</td>\n",
       "    </tr>\n",
       "  </tbody>\n",
       "</table>\n",
       "<p>154 rows × 2 columns</p>\n",
       "</div>"
      ],
      "text/plain": [
       "                          low      high\n",
       "date                                   \n",
       "2025-02-27 10:00:00  280.8800  293.5200\n",
       "2025-02-27 11:00:00  285.4100  292.0000\n",
       "2025-02-27 12:00:00  284.3300  289.8300\n",
       "2025-02-27 13:00:00  287.9600  291.8244\n",
       "2025-02-27 14:00:00  282.9600  288.7299\n",
       "...                       ...       ...\n",
       "2025-03-28 12:00:00  261.7500  265.0999\n",
       "2025-03-28 13:00:00  262.3600  266.0000\n",
       "2025-03-28 14:00:00  262.7700  265.4000\n",
       "2025-03-28 15:00:00  260.5700  264.8346\n",
       "2025-03-28 16:00:00  244.1347  274.4579\n",
       "\n",
       "[154 rows x 2 columns]"
      ]
     },
     "execution_count": 22,
     "metadata": {},
     "output_type": "execute_result"
    }
   ],
   "source": [
    "market.groupby('date').agg({'low':min, 'high':max})"
   ]
  },
  {
   "cell_type": "code",
   "execution_count": 23,
   "metadata": {},
   "outputs": [
    {
     "data": {
      "text/html": [
       "<div>\n",
       "<style scoped>\n",
       "    .dataframe tbody tr th:only-of-type {\n",
       "        vertical-align: middle;\n",
       "    }\n",
       "\n",
       "    .dataframe tbody tr th {\n",
       "        vertical-align: top;\n",
       "    }\n",
       "\n",
       "    .dataframe thead th {\n",
       "        text-align: right;\n",
       "    }\n",
       "</style>\n",
       "<table border=\"1\" class=\"dataframe\">\n",
       "  <thead>\n",
       "    <tr style=\"text-align: right;\">\n",
       "      <th></th>\n",
       "      <th>open</th>\n",
       "      <th>high</th>\n",
       "      <th>low</th>\n",
       "      <th>close</th>\n",
       "      <th>volume</th>\n",
       "    </tr>\n",
       "    <tr>\n",
       "      <th>date</th>\n",
       "      <th></th>\n",
       "      <th></th>\n",
       "      <th></th>\n",
       "      <th></th>\n",
       "      <th></th>\n",
       "    </tr>\n",
       "  </thead>\n",
       "  <tbody>\n",
       "    <tr>\n",
       "      <th>2025-02-27 10:00:00</th>\n",
       "      <td>283.0400</td>\n",
       "      <td>293.5200</td>\n",
       "      <td>280.8800</td>\n",
       "      <td>286.4604</td>\n",
       "      <td>21302791.0</td>\n",
       "    </tr>\n",
       "    <tr>\n",
       "      <th>2025-02-27 11:00:00</th>\n",
       "      <td>286.6400</td>\n",
       "      <td>292.0000</td>\n",
       "      <td>285.4100</td>\n",
       "      <td>285.6600</td>\n",
       "      <td>10219337.0</td>\n",
       "    </tr>\n",
       "    <tr>\n",
       "      <th>2025-02-27 12:00:00</th>\n",
       "      <td>285.7400</td>\n",
       "      <td>289.8300</td>\n",
       "      <td>284.3300</td>\n",
       "      <td>289.5350</td>\n",
       "      <td>9342902.0</td>\n",
       "    </tr>\n",
       "    <tr>\n",
       "      <th>2025-02-27 13:00:00</th>\n",
       "      <td>289.5864</td>\n",
       "      <td>291.8244</td>\n",
       "      <td>287.9600</td>\n",
       "      <td>288.5289</td>\n",
       "      <td>8788421.0</td>\n",
       "    </tr>\n",
       "    <tr>\n",
       "      <th>2025-02-27 14:00:00</th>\n",
       "      <td>288.5250</td>\n",
       "      <td>288.7299</td>\n",
       "      <td>282.9600</td>\n",
       "      <td>284.7206</td>\n",
       "      <td>9277176.0</td>\n",
       "    </tr>\n",
       "    <tr>\n",
       "      <th>...</th>\n",
       "      <td>...</td>\n",
       "      <td>...</td>\n",
       "      <td>...</td>\n",
       "      <td>...</td>\n",
       "      <td>...</td>\n",
       "    </tr>\n",
       "    <tr>\n",
       "      <th>2025-03-28 12:00:00</th>\n",
       "      <td>263.4292</td>\n",
       "      <td>265.0999</td>\n",
       "      <td>261.7500</td>\n",
       "      <td>263.6200</td>\n",
       "      <td>11019109.0</td>\n",
       "    </tr>\n",
       "    <tr>\n",
       "      <th>2025-03-28 13:00:00</th>\n",
       "      <td>263.5400</td>\n",
       "      <td>266.0000</td>\n",
       "      <td>262.3600</td>\n",
       "      <td>263.4450</td>\n",
       "      <td>10194188.0</td>\n",
       "    </tr>\n",
       "    <tr>\n",
       "      <th>2025-03-28 14:00:00</th>\n",
       "      <td>263.4100</td>\n",
       "      <td>265.4000</td>\n",
       "      <td>262.7700</td>\n",
       "      <td>263.9550</td>\n",
       "      <td>10160001.0</td>\n",
       "    </tr>\n",
       "    <tr>\n",
       "      <th>2025-03-28 15:00:00</th>\n",
       "      <td>263.9550</td>\n",
       "      <td>264.8346</td>\n",
       "      <td>260.5700</td>\n",
       "      <td>263.5400</td>\n",
       "      <td>17088707.0</td>\n",
       "    </tr>\n",
       "    <tr>\n",
       "      <th>2025-03-28 16:00:00</th>\n",
       "      <td>263.4800</td>\n",
       "      <td>274.4579</td>\n",
       "      <td>244.1347</td>\n",
       "      <td>262.0100</td>\n",
       "      <td>11396886.0</td>\n",
       "    </tr>\n",
       "  </tbody>\n",
       "</table>\n",
       "<p>154 rows × 5 columns</p>\n",
       "</div>"
      ],
      "text/plain": [
       "                         open      high       low     close      volume\n",
       "date                                                                   \n",
       "2025-02-27 10:00:00  283.0400  293.5200  280.8800  286.4604  21302791.0\n",
       "2025-02-27 11:00:00  286.6400  292.0000  285.4100  285.6600  10219337.0\n",
       "2025-02-27 12:00:00  285.7400  289.8300  284.3300  289.5350   9342902.0\n",
       "2025-02-27 13:00:00  289.5864  291.8244  287.9600  288.5289   8788421.0\n",
       "2025-02-27 14:00:00  288.5250  288.7299  282.9600  284.7206   9277176.0\n",
       "...                       ...       ...       ...       ...         ...\n",
       "2025-03-28 12:00:00  263.4292  265.0999  261.7500  263.6200  11019109.0\n",
       "2025-03-28 13:00:00  263.5400  266.0000  262.3600  263.4450  10194188.0\n",
       "2025-03-28 14:00:00  263.4100  265.4000  262.7700  263.9550  10160001.0\n",
       "2025-03-28 15:00:00  263.9550  264.8346  260.5700  263.5400  17088707.0\n",
       "2025-03-28 16:00:00  263.4800  274.4579  244.1347  262.0100  11396886.0\n",
       "\n",
       "[154 rows x 5 columns]"
      ]
     },
     "execution_count": 23,
     "metadata": {},
     "output_type": "execute_result"
    }
   ],
   "source": [
    "market.loc[market.groupby('date')['low'].idxmin()]"
   ]
  },
  {
   "cell_type": "code",
   "execution_count": 24,
   "metadata": {},
   "outputs": [
    {
     "data": {
      "text/html": [
       "<div>\n",
       "<style scoped>\n",
       "    .dataframe tbody tr th:only-of-type {\n",
       "        vertical-align: middle;\n",
       "    }\n",
       "\n",
       "    .dataframe tbody tr th {\n",
       "        vertical-align: top;\n",
       "    }\n",
       "\n",
       "    .dataframe thead th {\n",
       "        text-align: right;\n",
       "    }\n",
       "</style>\n",
       "<table border=\"1\" class=\"dataframe\">\n",
       "  <thead>\n",
       "    <tr style=\"text-align: right;\">\n",
       "      <th></th>\n",
       "      <th>open</th>\n",
       "      <th>high</th>\n",
       "      <th>low</th>\n",
       "      <th>close</th>\n",
       "      <th>volume</th>\n",
       "    </tr>\n",
       "    <tr>\n",
       "      <th>date</th>\n",
       "      <th></th>\n",
       "      <th></th>\n",
       "      <th></th>\n",
       "      <th></th>\n",
       "      <th></th>\n",
       "    </tr>\n",
       "  </thead>\n",
       "  <tbody>\n",
       "    <tr>\n",
       "      <th>2025-02-27 10:00:00</th>\n",
       "      <td>283.0400</td>\n",
       "      <td>293.5200</td>\n",
       "      <td>280.8800</td>\n",
       "      <td>286.4604</td>\n",
       "      <td>21302791.0</td>\n",
       "    </tr>\n",
       "    <tr>\n",
       "      <th>2025-02-27 11:00:00</th>\n",
       "      <td>286.6400</td>\n",
       "      <td>292.0000</td>\n",
       "      <td>285.4100</td>\n",
       "      <td>285.6600</td>\n",
       "      <td>10219337.0</td>\n",
       "    </tr>\n",
       "    <tr>\n",
       "      <th>2025-02-27 12:00:00</th>\n",
       "      <td>285.7400</td>\n",
       "      <td>289.8300</td>\n",
       "      <td>284.3300</td>\n",
       "      <td>289.5350</td>\n",
       "      <td>9342902.0</td>\n",
       "    </tr>\n",
       "    <tr>\n",
       "      <th>2025-02-27 13:00:00</th>\n",
       "      <td>289.5864</td>\n",
       "      <td>291.8244</td>\n",
       "      <td>287.9600</td>\n",
       "      <td>288.5289</td>\n",
       "      <td>8788421.0</td>\n",
       "    </tr>\n",
       "    <tr>\n",
       "      <th>2025-02-27 14:00:00</th>\n",
       "      <td>288.5250</td>\n",
       "      <td>288.7299</td>\n",
       "      <td>282.9600</td>\n",
       "      <td>284.7206</td>\n",
       "      <td>9277176.0</td>\n",
       "    </tr>\n",
       "    <tr>\n",
       "      <th>...</th>\n",
       "      <td>...</td>\n",
       "      <td>...</td>\n",
       "      <td>...</td>\n",
       "      <td>...</td>\n",
       "      <td>...</td>\n",
       "    </tr>\n",
       "    <tr>\n",
       "      <th>2025-03-28 12:00:00</th>\n",
       "      <td>263.4292</td>\n",
       "      <td>265.0999</td>\n",
       "      <td>261.7500</td>\n",
       "      <td>263.6200</td>\n",
       "      <td>11019109.0</td>\n",
       "    </tr>\n",
       "    <tr>\n",
       "      <th>2025-03-28 13:00:00</th>\n",
       "      <td>263.5400</td>\n",
       "      <td>266.0000</td>\n",
       "      <td>262.3600</td>\n",
       "      <td>263.4450</td>\n",
       "      <td>10194188.0</td>\n",
       "    </tr>\n",
       "    <tr>\n",
       "      <th>2025-03-28 14:00:00</th>\n",
       "      <td>263.4100</td>\n",
       "      <td>265.4000</td>\n",
       "      <td>262.7700</td>\n",
       "      <td>263.9550</td>\n",
       "      <td>10160001.0</td>\n",
       "    </tr>\n",
       "    <tr>\n",
       "      <th>2025-03-28 15:00:00</th>\n",
       "      <td>263.9550</td>\n",
       "      <td>264.8346</td>\n",
       "      <td>260.5700</td>\n",
       "      <td>263.5400</td>\n",
       "      <td>17088707.0</td>\n",
       "    </tr>\n",
       "    <tr>\n",
       "      <th>2025-03-28 16:00:00</th>\n",
       "      <td>263.4800</td>\n",
       "      <td>274.4579</td>\n",
       "      <td>244.1347</td>\n",
       "      <td>262.0100</td>\n",
       "      <td>11396886.0</td>\n",
       "    </tr>\n",
       "  </tbody>\n",
       "</table>\n",
       "<p>154 rows × 5 columns</p>\n",
       "</div>"
      ],
      "text/plain": [
       "                         open      high       low     close      volume\n",
       "date                                                                   \n",
       "2025-02-27 10:00:00  283.0400  293.5200  280.8800  286.4604  21302791.0\n",
       "2025-02-27 11:00:00  286.6400  292.0000  285.4100  285.6600  10219337.0\n",
       "2025-02-27 12:00:00  285.7400  289.8300  284.3300  289.5350   9342902.0\n",
       "2025-02-27 13:00:00  289.5864  291.8244  287.9600  288.5289   8788421.0\n",
       "2025-02-27 14:00:00  288.5250  288.7299  282.9600  284.7206   9277176.0\n",
       "...                       ...       ...       ...       ...         ...\n",
       "2025-03-28 12:00:00  263.4292  265.0999  261.7500  263.6200  11019109.0\n",
       "2025-03-28 13:00:00  263.5400  266.0000  262.3600  263.4450  10194188.0\n",
       "2025-03-28 14:00:00  263.4100  265.4000  262.7700  263.9550  10160001.0\n",
       "2025-03-28 15:00:00  263.9550  264.8346  260.5700  263.5400  17088707.0\n",
       "2025-03-28 16:00:00  263.4800  274.4579  244.1347  262.0100  11396886.0\n",
       "\n",
       "[154 rows x 5 columns]"
      ]
     },
     "execution_count": 24,
     "metadata": {},
     "output_type": "execute_result"
    }
   ],
   "source": [
    "market.loc[market.groupby('date')['high'].idxmax()]"
   ]
  },
  {
   "cell_type": "code",
   "execution_count": null,
   "metadata": {},
   "outputs": [],
   "source": []
  },
  {
   "cell_type": "code",
   "execution_count": null,
   "metadata": {},
   "outputs": [],
   "source": []
  },
  {
   "cell_type": "code",
   "execution_count": null,
   "metadata": {},
   "outputs": [],
   "source": []
  },
  {
   "cell_type": "code",
   "execution_count": null,
   "metadata": {},
   "outputs": [],
   "source": []
  },
  {
   "cell_type": "code",
   "execution_count": null,
   "metadata": {},
   "outputs": [],
   "source": []
  },
  {
   "cell_type": "code",
   "execution_count": null,
   "metadata": {},
   "outputs": [],
   "source": []
  },
  {
   "cell_type": "code",
   "execution_count": null,
   "metadata": {},
   "outputs": [],
   "source": []
  }
 ],
 "metadata": {
  "kernelspec": {
   "display_name": "myenv_name",
   "language": "python",
   "name": "python3"
  },
  "language_info": {
   "codemirror_mode": {
    "name": "ipython",
    "version": 3
   },
   "file_extension": ".py",
   "mimetype": "text/x-python",
   "name": "python",
   "nbconvert_exporter": "python",
   "pygments_lexer": "ipython3",
   "version": "3.13.1"
  }
 },
 "nbformat": 4,
 "nbformat_minor": 4
}
