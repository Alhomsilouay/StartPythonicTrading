{
 "cells": [
  {
   "cell_type": "markdown",
   "metadata": {},
   "source": [
    "# Using Alphavantage \n",
    "Alpha Vantage provides realtime and historical financial market data through a set of powerful \n",
    "and developer-friendly data APIs\n",
    "\n"
   ]
  },
  {
   "cell_type": "code",
   "execution_count": null,
   "metadata": {},
   "outputs": [
    {
     "name": "stdout",
     "output_type": "stream",
     "text": [
      "Collecting alpha_vantage\n",
      "  Downloading alpha_vantage-3.0.0-py3-none-any.whl.metadata (12 kB)\n",
      "Collecting aiohttp (from alpha_vantage)\n",
      "  Downloading aiohttp-3.11.14-cp313-cp313-win_amd64.whl.metadata (8.0 kB)\n",
      "Requirement already satisfied: requests in d:\\_elib 2025\\_trading\\mypython projects\\startpythonictrading\\myenv_name\\lib\\site-packages (from alpha_vantage) (2.32.3)\n",
      "Collecting aiohappyeyeballs>=2.3.0 (from aiohttp->alpha_vantage)\n",
      "  Downloading aiohappyeyeballs-2.6.1-py3-none-any.whl.metadata (5.9 kB)\n",
      "Collecting aiosignal>=1.1.2 (from aiohttp->alpha_vantage)\n",
      "  Downloading aiosignal-1.3.2-py2.py3-none-any.whl.metadata (3.8 kB)\n",
      "Requirement already satisfied: attrs>=17.3.0 in d:\\_elib 2025\\_trading\\mypython projects\\startpythonictrading\\myenv_name\\lib\\site-packages (from aiohttp->alpha_vantage) (25.3.0)\n",
      "Collecting frozenlist>=1.1.1 (from aiohttp->alpha_vantage)\n",
      "  Downloading frozenlist-1.5.0-cp313-cp313-win_amd64.whl.metadata (14 kB)\n",
      "Collecting multidict<7.0,>=4.5 (from aiohttp->alpha_vantage)\n",
      "  Downloading multidict-6.2.0-cp313-cp313-win_amd64.whl.metadata (5.1 kB)\n",
      "Collecting propcache>=0.2.0 (from aiohttp->alpha_vantage)\n",
      "  Downloading propcache-0.3.1-cp313-cp313-win_amd64.whl.metadata (11 kB)\n",
      "Collecting yarl<2.0,>=1.17.0 (from aiohttp->alpha_vantage)\n",
      "  Downloading yarl-1.18.3-cp313-cp313-win_amd64.whl.metadata (71 kB)\n",
      "Requirement already satisfied: charset-normalizer<4,>=2 in d:\\_elib 2025\\_trading\\mypython projects\\startpythonictrading\\myenv_name\\lib\\site-packages (from requests->alpha_vantage) (3.4.1)\n",
      "Requirement already satisfied: idna<4,>=2.5 in d:\\_elib 2025\\_trading\\mypython projects\\startpythonictrading\\myenv_name\\lib\\site-packages (from requests->alpha_vantage) (3.10)\n",
      "Requirement already satisfied: urllib3<3,>=1.21.1 in d:\\_elib 2025\\_trading\\mypython projects\\startpythonictrading\\myenv_name\\lib\\site-packages (from requests->alpha_vantage) (2.3.0)\n",
      "Requirement already satisfied: certifi>=2017.4.17 in d:\\_elib 2025\\_trading\\mypython projects\\startpythonictrading\\myenv_name\\lib\\site-packages (from requests->alpha_vantage) (2025.1.31)\n",
      "Downloading alpha_vantage-3.0.0-py3-none-any.whl (35 kB)\n",
      "Downloading aiohttp-3.11.14-cp313-cp313-win_amd64.whl (436 kB)\n",
      "Downloading aiohappyeyeballs-2.6.1-py3-none-any.whl (15 kB)\n",
      "Downloading aiosignal-1.3.2-py2.py3-none-any.whl (7.6 kB)\n",
      "Downloading frozenlist-1.5.0-cp313-cp313-win_amd64.whl (51 kB)\n",
      "Downloading multidict-6.2.0-cp313-cp313-win_amd64.whl (28 kB)\n",
      "Downloading propcache-0.3.1-cp313-cp313-win_amd64.whl (44 kB)\n",
      "Downloading yarl-1.18.3-cp313-cp313-win_amd64.whl (315 kB)\n",
      "Installing collected packages: propcache, multidict, frozenlist, aiohappyeyeballs, yarl, aiosignal, aiohttp, alpha_vantage\n",
      "Successfully installed aiohappyeyeballs-2.6.1 aiohttp-3.11.14 aiosignal-1.3.2 alpha_vantage-3.0.0 frozenlist-1.5.0 multidict-6.2.0 propcache-0.3.1 yarl-1.18.3\n",
      "Note: you may need to restart the kernel to use updated packages.\n"
     ]
    },
    {
     "name": "stderr",
     "output_type": "stream",
     "text": [
      "\n",
      "[notice] A new release of pip is available: 24.3.1 -> 25.0.1\n",
      "[notice] To update, run: python.exe -m pip install --upgrade pip\n"
     ]
    }
   ],
   "source": [
    "#  %pip install alpha_vantage   # comment after installing alpha_van"
   ]
  },
  {
   "cell_type": "markdown",
   "metadata": {},
   "source": [
    "### 1. Importing libraries"
   ]
  },
  {
   "cell_type": "code",
   "execution_count": 14,
   "metadata": {},
   "outputs": [],
   "source": [
    "import pandas as pd\n",
    "import matplotlib.pyplot as plt\n",
    "from alpha_vantage.timeseries import TimeSeries\n",
    "from alpha_vantage.foreignexchange import ForeignExchange"
   ]
  },
  {
   "cell_type": "code",
   "execution_count": 16,
   "metadata": {},
   "outputs": [],
   "source": [
    "#  Claim your free API key from https://alphavantage.co\n",
    "# \n",
    "mykey = 'ZT5AY7RGJ5GZYJP3'"
   ]
  },
  {
   "cell_type": "markdown",
   "metadata": {},
   "source": [
    "### 2. Get Real-Time Currency Exchange Rates\n",
    "\n"
   ]
  },
  {
   "cell_type": "code",
   "execution_count": 18,
   "metadata": {},
   "outputs": [
    {
     "name": "stdout",
     "output_type": "stream",
     "text": [
      "({'1. From_Currency Code': 'EUR', '2. From_Currency Name': 'Euro', '3. To_Currency Code': 'USD', '4. To_Currency Name': 'United States Dollar', '5. Exchange Rate': '1.08310000', '6. Last Refreshed': '2025-03-30 12:07:00', '7. Time Zone': 'UTC', '8. Bid Price': '1.08305000', '9. Ask Price': '1.08314000'}, None)\n"
     ]
    }
   ],
   "source": [
    "fx = ForeignExchange(mykey)\n",
    "# Get EUR/USD exchange rate\n",
    "data1= fx.get_currency_exchange_rate(from_currency=\"EUR\", to_currency=\"USD\")\n",
    "print(data1)"
   ]
  },
  {
   "cell_type": "code",
   "execution_count": 19,
   "metadata": {},
   "outputs": [
    {
     "name": "stdout",
     "output_type": "stream",
     "text": [
      "({'1. From_Currency Code': 'BTC', '2. From_Currency Name': 'Bitcoin', '3. To_Currency Code': 'USD', '4. To_Currency Name': 'United States Dollar', '5. Exchange Rate': '83076.88000000', '6. Last Refreshed': '2025-03-30 12:08:03', '7. Time Zone': 'UTC', '8. Bid Price': '83075.67900000', '9. Ask Price': '83080.95900000'}, None)\n"
     ]
    }
   ],
   "source": [
    "data1= fx.get_currency_exchange_rate(from_currency=\"BTC\", to_currency=\"USD\")\n",
    "print(data1)"
   ]
  },
  {
   "cell_type": "markdown",
   "metadata": {},
   "source": [
    "### 3. Get Intraday Stock Prices (Real-Time)"
   ]
  },
  {
   "cell_type": "code",
   "execution_count": 22,
   "metadata": {},
   "outputs": [],
   "source": [
    "ts = TimeSeries(mykey, output_format='pandas')\n",
    "\n",
    "data, meta = ts.get_intraday('TSLA', interval='1min', outputsize='full') # Get real-time intraday stock data (1-minute intervals"
   ]
  },
  {
   "cell_type": "code",
   "execution_count": 23,
   "metadata": {},
   "outputs": [
    {
     "data": {
      "text/plain": [
       "alpha_vantage.timeseries.TimeSeries"
      ]
     },
     "execution_count": 23,
     "metadata": {},
     "output_type": "execute_result"
    }
   ],
   "source": [
    "type(ts)"
   ]
  },
  {
   "cell_type": "code",
   "execution_count": 24,
   "metadata": {},
   "outputs": [
    {
     "data": {
      "text/plain": [
       "{'1. Information': 'Intraday (1min) open, high, low, close prices and volume',\n",
       " '2. Symbol': 'TSLA',\n",
       " '3. Last Refreshed': '2025-03-28 19:59:00',\n",
       " '4. Interval': '1min',\n",
       " '5. Output Size': 'Full size',\n",
       " '6. Time Zone': 'US/Eastern'}"
      ]
     },
     "execution_count": 24,
     "metadata": {},
     "output_type": "execute_result"
    }
   ],
   "source": [
    "meta"
   ]
  },
  {
   "cell_type": "code",
   "execution_count": 25,
   "metadata": {},
   "outputs": [
    {
     "name": "stdout",
     "output_type": "stream",
     "text": [
      "<class 'pandas.core.frame.DataFrame'>\n",
      "DatetimeIndex: 20895 entries, 2025-03-28 19:59:00 to 2025-02-27 04:00:00\n",
      "Data columns (total 5 columns):\n",
      " #   Column     Non-Null Count  Dtype  \n",
      "---  ------     --------------  -----  \n",
      " 0   1. open    20895 non-null  float64\n",
      " 1   2. high    20895 non-null  float64\n",
      " 2   3. low     20895 non-null  float64\n",
      " 3   4. close   20895 non-null  float64\n",
      " 4   5. volume  20895 non-null  float64\n",
      "dtypes: float64(5)\n",
      "memory usage: 979.5 KB\n"
     ]
    }
   ],
   "source": [
    "data.info()"
   ]
  },
  {
   "cell_type": "code",
   "execution_count": 26,
   "metadata": {},
   "outputs": [
    {
     "data": {
      "text/html": [
       "<div>\n",
       "<style scoped>\n",
       "    .dataframe tbody tr th:only-of-type {\n",
       "        vertical-align: middle;\n",
       "    }\n",
       "\n",
       "    .dataframe tbody tr th {\n",
       "        vertical-align: top;\n",
       "    }\n",
       "\n",
       "    .dataframe thead th {\n",
       "        text-align: right;\n",
       "    }\n",
       "</style>\n",
       "<table border=\"1\" class=\"dataframe\">\n",
       "  <thead>\n",
       "    <tr style=\"text-align: right;\">\n",
       "      <th></th>\n",
       "      <th>1. open</th>\n",
       "      <th>2. high</th>\n",
       "      <th>3. low</th>\n",
       "      <th>4. close</th>\n",
       "      <th>5. volume</th>\n",
       "    </tr>\n",
       "    <tr>\n",
       "      <th>date</th>\n",
       "      <th></th>\n",
       "      <th></th>\n",
       "      <th></th>\n",
       "      <th></th>\n",
       "      <th></th>\n",
       "    </tr>\n",
       "  </thead>\n",
       "  <tbody>\n",
       "    <tr>\n",
       "      <th>2025-03-28 19:59:00</th>\n",
       "      <td>260.275</td>\n",
       "      <td>260.30</td>\n",
       "      <td>260.020</td>\n",
       "      <td>260.12</td>\n",
       "      <td>14795.0</td>\n",
       "    </tr>\n",
       "    <tr>\n",
       "      <th>2025-03-28 19:58:00</th>\n",
       "      <td>260.278</td>\n",
       "      <td>260.33</td>\n",
       "      <td>260.200</td>\n",
       "      <td>260.27</td>\n",
       "      <td>12209.0</td>\n",
       "    </tr>\n",
       "    <tr>\n",
       "      <th>2025-03-28 19:57:00</th>\n",
       "      <td>260.130</td>\n",
       "      <td>260.27</td>\n",
       "      <td>260.120</td>\n",
       "      <td>260.25</td>\n",
       "      <td>8837.0</td>\n",
       "    </tr>\n",
       "    <tr>\n",
       "      <th>2025-03-28 19:56:00</th>\n",
       "      <td>260.070</td>\n",
       "      <td>260.19</td>\n",
       "      <td>260.070</td>\n",
       "      <td>260.15</td>\n",
       "      <td>5330.0</td>\n",
       "    </tr>\n",
       "    <tr>\n",
       "      <th>2025-03-28 19:55:00</th>\n",
       "      <td>260.100</td>\n",
       "      <td>260.18</td>\n",
       "      <td>260.045</td>\n",
       "      <td>260.11</td>\n",
       "      <td>10271.0</td>\n",
       "    </tr>\n",
       "  </tbody>\n",
       "</table>\n",
       "</div>"
      ],
      "text/plain": [
       "                     1. open  2. high   3. low  4. close  5. volume\n",
       "date                                                               \n",
       "2025-03-28 19:59:00  260.275   260.30  260.020    260.12    14795.0\n",
       "2025-03-28 19:58:00  260.278   260.33  260.200    260.27    12209.0\n",
       "2025-03-28 19:57:00  260.130   260.27  260.120    260.25     8837.0\n",
       "2025-03-28 19:56:00  260.070   260.19  260.070    260.15     5330.0\n",
       "2025-03-28 19:55:00  260.100   260.18  260.045    260.11    10271.0"
      ]
     },
     "execution_count": 26,
     "metadata": {},
     "output_type": "execute_result"
    }
   ],
   "source": [
    "data.head()"
   ]
  },
  {
   "cell_type": "code",
   "execution_count": 27,
   "metadata": {},
   "outputs": [
    {
     "data": {
      "text/html": [
       "<div>\n",
       "<style scoped>\n",
       "    .dataframe tbody tr th:only-of-type {\n",
       "        vertical-align: middle;\n",
       "    }\n",
       "\n",
       "    .dataframe tbody tr th {\n",
       "        vertical-align: top;\n",
       "    }\n",
       "\n",
       "    .dataframe thead th {\n",
       "        text-align: right;\n",
       "    }\n",
       "</style>\n",
       "<table border=\"1\" class=\"dataframe\">\n",
       "  <thead>\n",
       "    <tr style=\"text-align: right;\">\n",
       "      <th></th>\n",
       "      <th>1. open</th>\n",
       "      <th>2. high</th>\n",
       "      <th>3. low</th>\n",
       "      <th>4. close</th>\n",
       "      <th>5. volume</th>\n",
       "    </tr>\n",
       "    <tr>\n",
       "      <th>date</th>\n",
       "      <th></th>\n",
       "      <th></th>\n",
       "      <th></th>\n",
       "      <th></th>\n",
       "      <th></th>\n",
       "    </tr>\n",
       "  </thead>\n",
       "  <tbody>\n",
       "    <tr>\n",
       "      <th>2025-02-27 04:04:00</th>\n",
       "      <td>292.74</td>\n",
       "      <td>293.27</td>\n",
       "      <td>292.43</td>\n",
       "      <td>292.78</td>\n",
       "      <td>15709.0</td>\n",
       "    </tr>\n",
       "    <tr>\n",
       "      <th>2025-02-27 04:03:00</th>\n",
       "      <td>293.18</td>\n",
       "      <td>293.46</td>\n",
       "      <td>292.59</td>\n",
       "      <td>292.80</td>\n",
       "      <td>27881.0</td>\n",
       "    </tr>\n",
       "    <tr>\n",
       "      <th>2025-02-27 04:02:00</th>\n",
       "      <td>291.99</td>\n",
       "      <td>293.27</td>\n",
       "      <td>291.84</td>\n",
       "      <td>293.18</td>\n",
       "      <td>22352.0</td>\n",
       "    </tr>\n",
       "    <tr>\n",
       "      <th>2025-02-27 04:01:00</th>\n",
       "      <td>291.59</td>\n",
       "      <td>291.99</td>\n",
       "      <td>291.19</td>\n",
       "      <td>291.99</td>\n",
       "      <td>10893.0</td>\n",
       "    </tr>\n",
       "    <tr>\n",
       "      <th>2025-02-27 04:00:00</th>\n",
       "      <td>290.78</td>\n",
       "      <td>291.65</td>\n",
       "      <td>289.22</td>\n",
       "      <td>291.58</td>\n",
       "      <td>31988.0</td>\n",
       "    </tr>\n",
       "  </tbody>\n",
       "</table>\n",
       "</div>"
      ],
      "text/plain": [
       "                     1. open  2. high  3. low  4. close  5. volume\n",
       "date                                                              \n",
       "2025-02-27 04:04:00   292.74   293.27  292.43    292.78    15709.0\n",
       "2025-02-27 04:03:00   293.18   293.46  292.59    292.80    27881.0\n",
       "2025-02-27 04:02:00   291.99   293.27  291.84    293.18    22352.0\n",
       "2025-02-27 04:01:00   291.59   291.99  291.19    291.99    10893.0\n",
       "2025-02-27 04:00:00   290.78   291.65  289.22    291.58    31988.0"
      ]
     },
     "execution_count": 27,
     "metadata": {},
     "output_type": "execute_result"
    }
   ],
   "source": [
    "data.tail()"
   ]
  },
  {
   "cell_type": "code",
   "execution_count": 28,
   "metadata": {},
   "outputs": [
    {
     "data": {
      "text/plain": [
       "[<matplotlib.lines.Line2D at 0x232a851fd90>]"
      ]
     },
     "execution_count": 28,
     "metadata": {},
     "output_type": "execute_result"
    },
    {
     "data": {
      "image/png": "[encoded data removed]",
      "text/plain": [
       "<Figure size 640x480 with 1 Axes>"
      ]
     },
     "metadata": {},
     "output_type": "display_data"
    }
   ],
   "source": [
    "plt.plot(data['4. close'])"
   ]
  },
  {
   "cell_type": "code",
   "execution_count": null,
   "metadata": {},
   "outputs": [],
   "source": []
  },
  {
   "cell_type": "markdown",
   "metadata": {},
   "source": [
    "### 5. Rename Columns and Add Separate Date and Time Columns"
   ]
  },
  {
   "cell_type": "code",
   "execution_count": 11,
   "metadata": {},
   "outputs": [],
   "source": [
    "columns = ['open', 'high', 'low', 'close', 'volume']\n",
    "data.columns = columns"
   ]
  },
  {
   "cell_type": "code",
   "execution_count": 13,
   "metadata": {},
   "outputs": [],
   "source": [
    "data['TradeDate'] = data.index.date\n",
    "data['time'] = data.index.time"
   ]
  },
  {
   "cell_type": "code",
   "execution_count": 14,
   "metadata": {},
   "outputs": [
    {
     "data": {
      "text/html": [
       "<div>\n",
       "<style scoped>\n",
       "    .dataframe tbody tr th:only-of-type {\n",
       "        vertical-align: middle;\n",
       "    }\n",
       "\n",
       "    .dataframe tbody tr th {\n",
       "        vertical-align: top;\n",
       "    }\n",
       "\n",
       "    .dataframe thead th {\n",
       "        text-align: right;\n",
       "    }\n",
       "</style>\n",
       "<table border=\"1\" class=\"dataframe\">\n",
       "  <thead>\n",
       "    <tr style=\"text-align: right;\">\n",
       "      <th></th>\n",
       "      <th>open</th>\n",
       "      <th>high</th>\n",
       "      <th>low</th>\n",
       "      <th>close</th>\n",
       "      <th>volume</th>\n",
       "      <th>TradeDate</th>\n",
       "      <th>time</th>\n",
       "    </tr>\n",
       "    <tr>\n",
       "      <th>date</th>\n",
       "      <th></th>\n",
       "      <th></th>\n",
       "      <th></th>\n",
       "      <th></th>\n",
       "      <th></th>\n",
       "      <th></th>\n",
       "      <th></th>\n",
       "    </tr>\n",
       "  </thead>\n",
       "  <tbody>\n",
       "    <tr>\n",
       "      <th>2020-12-31 20:00:00</th>\n",
       "      <td>704.69</td>\n",
       "      <td>704.70</td>\n",
       "      <td>704.50</td>\n",
       "      <td>704.50</td>\n",
       "      <td>2435.0</td>\n",
       "      <td>2020-12-31</td>\n",
       "      <td>20:00:00</td>\n",
       "    </tr>\n",
       "    <tr>\n",
       "      <th>2020-12-31 19:59:00</th>\n",
       "      <td>704.50</td>\n",
       "      <td>704.70</td>\n",
       "      <td>704.50</td>\n",
       "      <td>704.70</td>\n",
       "      <td>5691.0</td>\n",
       "      <td>2020-12-31</td>\n",
       "      <td>19:59:00</td>\n",
       "    </tr>\n",
       "    <tr>\n",
       "      <th>2020-12-31 19:58:00</th>\n",
       "      <td>704.48</td>\n",
       "      <td>704.50</td>\n",
       "      <td>704.48</td>\n",
       "      <td>704.50</td>\n",
       "      <td>2642.0</td>\n",
       "      <td>2020-12-31</td>\n",
       "      <td>19:58:00</td>\n",
       "    </tr>\n",
       "    <tr>\n",
       "      <th>2020-12-31 19:57:00</th>\n",
       "      <td>704.40</td>\n",
       "      <td>704.47</td>\n",
       "      <td>704.40</td>\n",
       "      <td>704.40</td>\n",
       "      <td>1453.0</td>\n",
       "      <td>2020-12-31</td>\n",
       "      <td>19:57:00</td>\n",
       "    </tr>\n",
       "    <tr>\n",
       "      <th>2020-12-31 19:54:00</th>\n",
       "      <td>704.35</td>\n",
       "      <td>704.47</td>\n",
       "      <td>704.35</td>\n",
       "      <td>704.35</td>\n",
       "      <td>2701.0</td>\n",
       "      <td>2020-12-31</td>\n",
       "      <td>19:54:00</td>\n",
       "    </tr>\n",
       "    <tr>\n",
       "      <th>...</th>\n",
       "      <td>...</td>\n",
       "      <td>...</td>\n",
       "      <td>...</td>\n",
       "      <td>...</td>\n",
       "      <td>...</td>\n",
       "      <td>...</td>\n",
       "      <td>...</td>\n",
       "    </tr>\n",
       "    <tr>\n",
       "      <th>2020-12-31 04:07:00</th>\n",
       "      <td>692.00</td>\n",
       "      <td>692.00</td>\n",
       "      <td>692.00</td>\n",
       "      <td>692.00</td>\n",
       "      <td>718.0</td>\n",
       "      <td>2020-12-31</td>\n",
       "      <td>04:07:00</td>\n",
       "    </tr>\n",
       "    <tr>\n",
       "      <th>2020-12-31 04:06:00</th>\n",
       "      <td>692.70</td>\n",
       "      <td>692.70</td>\n",
       "      <td>692.70</td>\n",
       "      <td>692.70</td>\n",
       "      <td>444.0</td>\n",
       "      <td>2020-12-31</td>\n",
       "      <td>04:06:00</td>\n",
       "    </tr>\n",
       "    <tr>\n",
       "      <th>2020-12-31 04:04:00</th>\n",
       "      <td>693.62</td>\n",
       "      <td>693.62</td>\n",
       "      <td>693.20</td>\n",
       "      <td>693.20</td>\n",
       "      <td>2586.0</td>\n",
       "      <td>2020-12-31</td>\n",
       "      <td>04:04:00</td>\n",
       "    </tr>\n",
       "    <tr>\n",
       "      <th>2020-12-31 04:02:00</th>\n",
       "      <td>693.50</td>\n",
       "      <td>693.50</td>\n",
       "      <td>693.50</td>\n",
       "      <td>693.50</td>\n",
       "      <td>910.0</td>\n",
       "      <td>2020-12-31</td>\n",
       "      <td>04:02:00</td>\n",
       "    </tr>\n",
       "    <tr>\n",
       "      <th>2020-12-31 04:01:00</th>\n",
       "      <td>693.50</td>\n",
       "      <td>693.50</td>\n",
       "      <td>693.00</td>\n",
       "      <td>693.00</td>\n",
       "      <td>847.0</td>\n",
       "      <td>2020-12-31</td>\n",
       "      <td>04:01:00</td>\n",
       "    </tr>\n",
       "  </tbody>\n",
       "</table>\n",
       "<p>768 rows × 7 columns</p>\n",
       "</div>"
      ],
      "text/plain": [
       "                       open    high     low   close  volume   TradeDate  \\\n",
       "date                                                                      \n",
       "2020-12-31 20:00:00  704.69  704.70  704.50  704.50  2435.0  2020-12-31   \n",
       "2020-12-31 19:59:00  704.50  704.70  704.50  704.70  5691.0  2020-12-31   \n",
       "2020-12-31 19:58:00  704.48  704.50  704.48  704.50  2642.0  2020-12-31   \n",
       "2020-12-31 19:57:00  704.40  704.47  704.40  704.40  1453.0  2020-12-31   \n",
       "2020-12-31 19:54:00  704.35  704.47  704.35  704.35  2701.0  2020-12-31   \n",
       "...                     ...     ...     ...     ...     ...         ...   \n",
       "2020-12-31 04:07:00  692.00  692.00  692.00  692.00   718.0  2020-12-31   \n",
       "2020-12-31 04:06:00  692.70  692.70  692.70  692.70   444.0  2020-12-31   \n",
       "2020-12-31 04:04:00  693.62  693.62  693.20  693.20  2586.0  2020-12-31   \n",
       "2020-12-31 04:02:00  693.50  693.50  693.50  693.50   910.0  2020-12-31   \n",
       "2020-12-31 04:01:00  693.50  693.50  693.00  693.00   847.0  2020-12-31   \n",
       "\n",
       "                         time  \n",
       "date                           \n",
       "2020-12-31 20:00:00  20:00:00  \n",
       "2020-12-31 19:59:00  19:59:00  \n",
       "2020-12-31 19:58:00  19:58:00  \n",
       "2020-12-31 19:57:00  19:57:00  \n",
       "2020-12-31 19:54:00  19:54:00  \n",
       "...                       ...  \n",
       "2020-12-31 04:07:00  04:07:00  \n",
       "2020-12-31 04:06:00  04:06:00  \n",
       "2020-12-31 04:04:00  04:04:00  \n",
       "2020-12-31 04:02:00  04:02:00  \n",
       "2020-12-31 04:01:00  04:01:00  \n",
       "\n",
       "[768 rows x 7 columns]"
      ]
     },
     "execution_count": 14,
     "metadata": {},
     "output_type": "execute_result"
    }
   ],
   "source": [
    "data.loc['2020-12-31']"
   ]
  },
  {
   "cell_type": "code",
   "execution_count": 15,
   "metadata": {},
   "outputs": [
    {
     "name": "stdout",
     "output_type": "stream",
     "text": [
      "<class 'pandas.core.frame.DataFrame'>\n",
      "DatetimeIndex: 3128 entries, 2020-12-28 09:30:00 to 2021-01-07 16:00:00\n",
      "Data columns (total 7 columns):\n",
      " #   Column     Non-Null Count  Dtype  \n",
      "---  ------     --------------  -----  \n",
      " 0   open       3128 non-null   float64\n",
      " 1   high       3128 non-null   float64\n",
      " 2   low        3128 non-null   float64\n",
      " 3   close      3128 non-null   float64\n",
      " 4   volume     3128 non-null   float64\n",
      " 5   TradeDate  3128 non-null   object \n",
      " 6   time       3128 non-null   object \n",
      "dtypes: float64(5), object(2)\n",
      "memory usage: 195.5+ KB\n"
     ]
    }
   ],
   "source": [
    "market = data.between_time('09:30:00', '16:00:00').copy()\n",
    "market.sort_index(inplace=True)\n",
    "market.info()"
   ]
  },
  {
   "cell_type": "code",
   "execution_count": 16,
   "metadata": {},
   "outputs": [
    {
     "data": {
      "text/html": [
       "<div>\n",
       "<style scoped>\n",
       "    .dataframe tbody tr th:only-of-type {\n",
       "        vertical-align: middle;\n",
       "    }\n",
       "\n",
       "    .dataframe tbody tr th {\n",
       "        vertical-align: top;\n",
       "    }\n",
       "\n",
       "    .dataframe thead th {\n",
       "        text-align: right;\n",
       "    }\n",
       "</style>\n",
       "<table border=\"1\" class=\"dataframe\">\n",
       "  <thead>\n",
       "    <tr style=\"text-align: right;\">\n",
       "      <th></th>\n",
       "      <th>low</th>\n",
       "      <th>high</th>\n",
       "    </tr>\n",
       "    <tr>\n",
       "      <th>TradeDate</th>\n",
       "      <th></th>\n",
       "      <th></th>\n",
       "    </tr>\n",
       "  </thead>\n",
       "  <tbody>\n",
       "    <tr>\n",
       "      <th>2020-12-28</th>\n",
       "      <td>660.8000</td>\n",
       "      <td>681.4000</td>\n",
       "    </tr>\n",
       "    <tr>\n",
       "      <th>2020-12-29</th>\n",
       "      <td>655.0000</td>\n",
       "      <td>669.9000</td>\n",
       "    </tr>\n",
       "    <tr>\n",
       "      <th>2020-12-30</th>\n",
       "      <td>668.3603</td>\n",
       "      <td>696.6000</td>\n",
       "    </tr>\n",
       "    <tr>\n",
       "      <th>2020-12-31</th>\n",
       "      <td>691.1200</td>\n",
       "      <td>718.7200</td>\n",
       "    </tr>\n",
       "    <tr>\n",
       "      <th>2021-01-04</th>\n",
       "      <td>717.1895</td>\n",
       "      <td>744.4899</td>\n",
       "    </tr>\n",
       "    <tr>\n",
       "      <th>2021-01-05</th>\n",
       "      <td>719.2000</td>\n",
       "      <td>740.8400</td>\n",
       "    </tr>\n",
       "    <tr>\n",
       "      <th>2021-01-06</th>\n",
       "      <td>749.1000</td>\n",
       "      <td>774.0000</td>\n",
       "    </tr>\n",
       "    <tr>\n",
       "      <th>2021-01-07</th>\n",
       "      <td>775.2000</td>\n",
       "      <td>816.9900</td>\n",
       "    </tr>\n",
       "  </tbody>\n",
       "</table>\n",
       "</div>"
      ],
      "text/plain": [
       "                 low      high\n",
       "TradeDate                     \n",
       "2020-12-28  660.8000  681.4000\n",
       "2020-12-29  655.0000  669.9000\n",
       "2020-12-30  668.3603  696.6000\n",
       "2020-12-31  691.1200  718.7200\n",
       "2021-01-04  717.1895  744.4899\n",
       "2021-01-05  719.2000  740.8400\n",
       "2021-01-06  749.1000  774.0000\n",
       "2021-01-07  775.2000  816.9900"
      ]
     },
     "execution_count": 16,
     "metadata": {},
     "output_type": "execute_result"
    }
   ],
   "source": [
    "market.groupby('TradeDate').agg({'low':min, 'high':max})"
   ]
  },
  {
   "cell_type": "code",
   "execution_count": 17,
   "metadata": {},
   "outputs": [
    {
     "data": {
      "text/html": [
       "<div>\n",
       "<style scoped>\n",
       "    .dataframe tbody tr th:only-of-type {\n",
       "        vertical-align: middle;\n",
       "    }\n",
       "\n",
       "    .dataframe tbody tr th {\n",
       "        vertical-align: top;\n",
       "    }\n",
       "\n",
       "    .dataframe thead th {\n",
       "        text-align: right;\n",
       "    }\n",
       "</style>\n",
       "<table border=\"1\" class=\"dataframe\">\n",
       "  <thead>\n",
       "    <tr style=\"text-align: right;\">\n",
       "      <th></th>\n",
       "      <th>open</th>\n",
       "      <th>high</th>\n",
       "      <th>low</th>\n",
       "      <th>close</th>\n",
       "      <th>volume</th>\n",
       "      <th>TradeDate</th>\n",
       "      <th>time</th>\n",
       "    </tr>\n",
       "    <tr>\n",
       "      <th>date</th>\n",
       "      <th></th>\n",
       "      <th></th>\n",
       "      <th></th>\n",
       "      <th></th>\n",
       "      <th></th>\n",
       "      <th></th>\n",
       "      <th></th>\n",
       "    </tr>\n",
       "  </thead>\n",
       "  <tbody>\n",
       "    <tr>\n",
       "      <th>2020-12-28 10:49:00</th>\n",
       "      <td>661.025</td>\n",
       "      <td>663.8800</td>\n",
       "      <td>660.8000</td>\n",
       "      <td>663.8800</td>\n",
       "      <td>169251.0</td>\n",
       "      <td>2020-12-28</td>\n",
       "      <td>10:49:00</td>\n",
       "    </tr>\n",
       "    <tr>\n",
       "      <th>2020-12-29 10:15:00</th>\n",
       "      <td>657.000</td>\n",
       "      <td>658.5800</td>\n",
       "      <td>655.0000</td>\n",
       "      <td>656.0600</td>\n",
       "      <td>162237.0</td>\n",
       "      <td>2020-12-29</td>\n",
       "      <td>10:15:00</td>\n",
       "    </tr>\n",
       "    <tr>\n",
       "      <th>2020-12-30 09:41:00</th>\n",
       "      <td>669.685</td>\n",
       "      <td>671.6300</td>\n",
       "      <td>668.3603</td>\n",
       "      <td>671.3301</td>\n",
       "      <td>141286.0</td>\n",
       "      <td>2020-12-30</td>\n",
       "      <td>09:41:00</td>\n",
       "    </tr>\n",
       "    <tr>\n",
       "      <th>2020-12-31 09:57:00</th>\n",
       "      <td>692.670</td>\n",
       "      <td>693.1200</td>\n",
       "      <td>691.1200</td>\n",
       "      <td>691.7961</td>\n",
       "      <td>175834.0</td>\n",
       "      <td>2020-12-31</td>\n",
       "      <td>09:57:00</td>\n",
       "    </tr>\n",
       "    <tr>\n",
       "      <th>2021-01-04 09:31:00</th>\n",
       "      <td>719.460</td>\n",
       "      <td>721.4900</td>\n",
       "      <td>717.1895</td>\n",
       "      <td>717.6900</td>\n",
       "      <td>871163.0</td>\n",
       "      <td>2021-01-04</td>\n",
       "      <td>09:31:00</td>\n",
       "    </tr>\n",
       "    <tr>\n",
       "      <th>2021-01-05 09:34:00</th>\n",
       "      <td>720.530</td>\n",
       "      <td>722.9109</td>\n",
       "      <td>719.2000</td>\n",
       "      <td>719.9714</td>\n",
       "      <td>209148.0</td>\n",
       "      <td>2021-01-05</td>\n",
       "      <td>09:34:00</td>\n",
       "    </tr>\n",
       "    <tr>\n",
       "      <th>2021-01-06 10:01:00</th>\n",
       "      <td>751.520</td>\n",
       "      <td>752.2772</td>\n",
       "      <td>749.1000</td>\n",
       "      <td>751.4219</td>\n",
       "      <td>349451.0</td>\n",
       "      <td>2021-01-06</td>\n",
       "      <td>10:01:00</td>\n",
       "    </tr>\n",
       "    <tr>\n",
       "      <th>2021-01-07 09:32:00</th>\n",
       "      <td>776.660</td>\n",
       "      <td>777.7000</td>\n",
       "      <td>775.2000</td>\n",
       "      <td>776.2500</td>\n",
       "      <td>236797.0</td>\n",
       "      <td>2021-01-07</td>\n",
       "      <td>09:32:00</td>\n",
       "    </tr>\n",
       "  </tbody>\n",
       "</table>\n",
       "</div>"
      ],
      "text/plain": [
       "                        open      high       low     close    volume  \\\n",
       "date                                                                   \n",
       "2020-12-28 10:49:00  661.025  663.8800  660.8000  663.8800  169251.0   \n",
       "2020-12-29 10:15:00  657.000  658.5800  655.0000  656.0600  162237.0   \n",
       "2020-12-30 09:41:00  669.685  671.6300  668.3603  671.3301  141286.0   \n",
       "2020-12-31 09:57:00  692.670  693.1200  691.1200  691.7961  175834.0   \n",
       "2021-01-04 09:31:00  719.460  721.4900  717.1895  717.6900  871163.0   \n",
       "2021-01-05 09:34:00  720.530  722.9109  719.2000  719.9714  209148.0   \n",
       "2021-01-06 10:01:00  751.520  752.2772  749.1000  751.4219  349451.0   \n",
       "2021-01-07 09:32:00  776.660  777.7000  775.2000  776.2500  236797.0   \n",
       "\n",
       "                      TradeDate      time  \n",
       "date                                       \n",
       "2020-12-28 10:49:00  2020-12-28  10:49:00  \n",
       "2020-12-29 10:15:00  2020-12-29  10:15:00  \n",
       "2020-12-30 09:41:00  2020-12-30  09:41:00  \n",
       "2020-12-31 09:57:00  2020-12-31  09:57:00  \n",
       "2021-01-04 09:31:00  2021-01-04  09:31:00  \n",
       "2021-01-05 09:34:00  2021-01-05  09:34:00  \n",
       "2021-01-06 10:01:00  2021-01-06  10:01:00  \n",
       "2021-01-07 09:32:00  2021-01-07  09:32:00  "
      ]
     },
     "execution_count": 17,
     "metadata": {},
     "output_type": "execute_result"
    }
   ],
   "source": [
    "market.loc[market.groupby('TradeDate')['low'].idxmin()]"
   ]
  },
  {
   "cell_type": "code",
   "execution_count": 18,
   "metadata": {},
   "outputs": [
    {
     "data": {
      "text/html": [
       "<div>\n",
       "<style scoped>\n",
       "    .dataframe tbody tr th:only-of-type {\n",
       "        vertical-align: middle;\n",
       "    }\n",
       "\n",
       "    .dataframe tbody tr th {\n",
       "        vertical-align: top;\n",
       "    }\n",
       "\n",
       "    .dataframe thead th {\n",
       "        text-align: right;\n",
       "    }\n",
       "</style>\n",
       "<table border=\"1\" class=\"dataframe\">\n",
       "  <thead>\n",
       "    <tr style=\"text-align: right;\">\n",
       "      <th></th>\n",
       "      <th>open</th>\n",
       "      <th>high</th>\n",
       "      <th>low</th>\n",
       "      <th>close</th>\n",
       "      <th>volume</th>\n",
       "      <th>TradeDate</th>\n",
       "      <th>time</th>\n",
       "    </tr>\n",
       "    <tr>\n",
       "      <th>date</th>\n",
       "      <th></th>\n",
       "      <th></th>\n",
       "      <th></th>\n",
       "      <th></th>\n",
       "      <th></th>\n",
       "      <th></th>\n",
       "      <th></th>\n",
       "    </tr>\n",
       "  </thead>\n",
       "  <tbody>\n",
       "    <tr>\n",
       "      <th>2020-12-28 09:43:00</th>\n",
       "      <td>679.8350</td>\n",
       "      <td>681.4000</td>\n",
       "      <td>678.0000</td>\n",
       "      <td>678.8728</td>\n",
       "      <td>416362.0</td>\n",
       "      <td>2020-12-28</td>\n",
       "      <td>09:43:00</td>\n",
       "    </tr>\n",
       "    <tr>\n",
       "      <th>2020-12-29 09:49:00</th>\n",
       "      <td>668.8599</td>\n",
       "      <td>669.9000</td>\n",
       "      <td>667.2000</td>\n",
       "      <td>667.7950</td>\n",
       "      <td>154742.0</td>\n",
       "      <td>2020-12-29</td>\n",
       "      <td>09:49:00</td>\n",
       "    </tr>\n",
       "    <tr>\n",
       "      <th>2020-12-30 14:44:00</th>\n",
       "      <td>695.6699</td>\n",
       "      <td>696.6000</td>\n",
       "      <td>695.5801</td>\n",
       "      <td>696.1716</td>\n",
       "      <td>166469.0</td>\n",
       "      <td>2020-12-30</td>\n",
       "      <td>14:44:00</td>\n",
       "    </tr>\n",
       "    <tr>\n",
       "      <th>2020-12-31 11:38:00</th>\n",
       "      <td>717.5985</td>\n",
       "      <td>718.7200</td>\n",
       "      <td>717.4100</td>\n",
       "      <td>718.4900</td>\n",
       "      <td>239463.0</td>\n",
       "      <td>2020-12-31</td>\n",
       "      <td>11:38:00</td>\n",
       "    </tr>\n",
       "    <tr>\n",
       "      <th>2021-01-04 10:33:00</th>\n",
       "      <td>741.7239</td>\n",
       "      <td>744.4899</td>\n",
       "      <td>741.6500</td>\n",
       "      <td>743.8500</td>\n",
       "      <td>295133.0</td>\n",
       "      <td>2021-01-04</td>\n",
       "      <td>10:33:00</td>\n",
       "    </tr>\n",
       "    <tr>\n",
       "      <th>2021-01-05 11:34:00</th>\n",
       "      <td>739.5500</td>\n",
       "      <td>740.8400</td>\n",
       "      <td>739.2000</td>\n",
       "      <td>740.3900</td>\n",
       "      <td>107022.0</td>\n",
       "      <td>2021-01-05</td>\n",
       "      <td>11:34:00</td>\n",
       "    </tr>\n",
       "    <tr>\n",
       "      <th>2021-01-06 14:07:00</th>\n",
       "      <td>772.7913</td>\n",
       "      <td>774.0000</td>\n",
       "      <td>772.6700</td>\n",
       "      <td>773.7541</td>\n",
       "      <td>130661.0</td>\n",
       "      <td>2021-01-06</td>\n",
       "      <td>14:07:00</td>\n",
       "    </tr>\n",
       "    <tr>\n",
       "      <th>2021-01-07 15:55:00</th>\n",
       "      <td>816.4611</td>\n",
       "      <td>816.9900</td>\n",
       "      <td>815.4400</td>\n",
       "      <td>815.9050</td>\n",
       "      <td>240217.0</td>\n",
       "      <td>2021-01-07</td>\n",
       "      <td>15:55:00</td>\n",
       "    </tr>\n",
       "  </tbody>\n",
       "</table>\n",
       "</div>"
      ],
      "text/plain": [
       "                         open      high       low     close    volume  \\\n",
       "date                                                                    \n",
       "2020-12-28 09:43:00  679.8350  681.4000  678.0000  678.8728  416362.0   \n",
       "2020-12-29 09:49:00  668.8599  669.9000  667.2000  667.7950  154742.0   \n",
       "2020-12-30 14:44:00  695.6699  696.6000  695.5801  696.1716  166469.0   \n",
       "2020-12-31 11:38:00  717.5985  718.7200  717.4100  718.4900  239463.0   \n",
       "2021-01-04 10:33:00  741.7239  744.4899  741.6500  743.8500  295133.0   \n",
       "2021-01-05 11:34:00  739.5500  740.8400  739.2000  740.3900  107022.0   \n",
       "2021-01-06 14:07:00  772.7913  774.0000  772.6700  773.7541  130661.0   \n",
       "2021-01-07 15:55:00  816.4611  816.9900  815.4400  815.9050  240217.0   \n",
       "\n",
       "                      TradeDate      time  \n",
       "date                                       \n",
       "2020-12-28 09:43:00  2020-12-28  09:43:00  \n",
       "2020-12-29 09:49:00  2020-12-29  09:49:00  \n",
       "2020-12-30 14:44:00  2020-12-30  14:44:00  \n",
       "2020-12-31 11:38:00  2020-12-31  11:38:00  \n",
       "2021-01-04 10:33:00  2021-01-04  10:33:00  \n",
       "2021-01-05 11:34:00  2021-01-05  11:34:00  \n",
       "2021-01-06 14:07:00  2021-01-06  14:07:00  \n",
       "2021-01-07 15:55:00  2021-01-07  15:55:00  "
      ]
     },
     "execution_count": 18,
     "metadata": {},
     "output_type": "execute_result"
    }
   ],
   "source": [
    "market.loc[market.groupby('TradeDate')['high'].idxmax()]"
   ]
  },
  {
   "cell_type": "code",
   "execution_count": null,
   "metadata": {},
   "outputs": [],
   "source": []
  },
  {
   "cell_type": "code",
   "execution_count": null,
   "metadata": {},
   "outputs": [],
   "source": []
  },
  {
   "cell_type": "code",
   "execution_count": null,
   "metadata": {},
   "outputs": [],
   "source": []
  },
  {
   "cell_type": "code",
   "execution_count": null,
   "metadata": {},
   "outputs": [],
   "source": []
  },
  {
   "cell_type": "code",
   "execution_count": null,
   "metadata": {},
   "outputs": [],
   "source": []
  },
  {
   "cell_type": "code",
   "execution_count": null,
   "metadata": {},
   "outputs": [],
   "source": []
  },
  {
   "cell_type": "code",
   "execution_count": null,
   "metadata": {},
   "outputs": [],
   "source": []
  }
 ],
 "metadata": {
  "kernelspec": {
   "display_name": "myenv_name",
   "language": "python",
   "name": "python3"
  },
  "language_info": {
   "codemirror_mode": {
    "name": "ipython",
    "version": 3
   },
   "file_extension": ".py",
   "mimetype": "text/x-python",
   "name": "python",
   "nbconvert_exporter": "python",
   "pygments_lexer": "ipython3",
   "version": "3.13.1"
  }
 },
 "nbformat": 4,
 "nbformat_minor": 4
}
